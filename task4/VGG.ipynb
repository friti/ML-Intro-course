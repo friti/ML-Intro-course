{
 "cells": [
  {
   "cell_type": "code",
   "execution_count": 1,
   "id": "color-penny",
   "metadata": {},
   "outputs": [],
   "source": [
    "# Libraries\n",
    "import keras\n",
    "import tensorflow\n",
    "from skimage import io\n",
    "import os\n",
    "import glob\n",
    "import numpy as np\n",
    "import random\n",
    "import matplotlib.pyplot as plt\n",
    "import matplotlib.pyplot as plt\n",
    "from skimage import data, color\n",
    "from skimage.transform import rescale, resize, downscale_local_mean\n",
    "\n",
    "from keras.preprocessing.image import load_img\n",
    "from keras.preprocessing.image import img_to_array\n",
    "from tensorflow.keras import Input,Model\n",
    "from tensorflow.keras.layers import Flatten\n",
    "\n",
    "import pickle\n",
    "from datetime import datetime\n",
    "from sklearn.model_selection import train_test_split\n",
    "from tensorflow.keras.models import Sequential, Model\n",
    "from tensorflow.keras.layers import Dense, Input, Dropout, BatchNormalization\n",
    "from tensorflow.keras.constraints import unit_norm\n",
    "\n",
    "from keras.applications.vgg16 import preprocess_input\n",
    "from keras.applications.vgg16 import VGG16"
   ]
  },
  {
   "cell_type": "code",
   "execution_count": 2,
   "id": "grave-charlotte",
   "metadata": {},
   "outputs": [],
   "source": [
    "DATASET_PATH = 'dataset/food'\n",
    "\n",
    "# glob through the directory (returns a list of all file paths)\n",
    "food_path = os.path.join(DATASET_PATH,  '*')\n",
    "food_path = glob.glob(food_path)"
   ]
  },
  {
   "cell_type": "code",
   "execution_count": null,
   "id": "wireless-answer",
   "metadata": {},
   "outputs": [],
   "source": [
    "# RESHAPE IMAGES\n",
    "\n",
    "images_dic = {}\n",
    "for i,path in enumerate(food_path):\n",
    "    name = path.split(\"/\")[2].split(\".\")[0]\n",
    "    image = load_img(food_path[i], target_size=(240, 350))\n",
    "    # convert the image pixels to a numpy array\n",
    "    image = img_to_array(image)\n",
    "    # reshape data for the model\n",
    "    image = image.reshape((1, image.shape[0], image.shape[1], image.shape[2]))\n",
    "    # prepare the image for the VGG model\n",
    "    image = preprocess_input(image) # changes depending on the model\n",
    "    images_dic[name] = image\n",
    "\n",
    "# save \n",
    "with open('imagesdic_vgg.pickle', 'wb') as handle:\n",
    "    pickle.dump(images_dic, handle, protocol=pickle.HIGHEST_PROTOCOL)\n",
    "\n",
    "dt_string = datetime.now().strftime(\"%d/%m/%Y %H:%M:%S\")\n",
    "print(\"date and time =\", dt_string)"
   ]
  },
  {
   "cell_type": "code",
   "execution_count": 3,
   "id": "possible-large",
   "metadata": {},
   "outputs": [],
   "source": [
    "# LOAD ALREADY RESHAPED IMAGES\n",
    "with open(\"imagesdic_vgg.pickle\", \"rb\") as fp:   # Unpickling\n",
    "       images_dic = pickle.load(fp)"
   ]
  },
  {
   "cell_type": "code",
   "execution_count": 4,
   "id": "noticed-prerequisite",
   "metadata": {},
   "outputs": [
    {
     "name": "stdout",
     "output_type": "stream",
     "text": [
      "Model: \"model\"\n",
      "_________________________________________________________________\n",
      "Layer (type)                 Output Shape              Param #   \n",
      "=================================================================\n",
      "input_1 (InputLayer)         [(None, 240, 350, 3)]     0         \n",
      "_________________________________________________________________\n",
      "block1_conv1 (Conv2D)        (None, 240, 350, 64)      1792      \n",
      "_________________________________________________________________\n",
      "block1_conv2 (Conv2D)        (None, 240, 350, 64)      36928     \n",
      "_________________________________________________________________\n",
      "block1_pool (MaxPooling2D)   (None, 120, 175, 64)      0         \n",
      "_________________________________________________________________\n",
      "block2_conv1 (Conv2D)        (None, 120, 175, 128)     73856     \n",
      "_________________________________________________________________\n",
      "block2_conv2 (Conv2D)        (None, 120, 175, 128)     147584    \n",
      "_________________________________________________________________\n",
      "block2_pool (MaxPooling2D)   (None, 60, 87, 128)       0         \n",
      "_________________________________________________________________\n",
      "block3_conv1 (Conv2D)        (None, 60, 87, 256)       295168    \n",
      "_________________________________________________________________\n",
      "block3_conv2 (Conv2D)        (None, 60, 87, 256)       590080    \n",
      "_________________________________________________________________\n",
      "block3_conv3 (Conv2D)        (None, 60, 87, 256)       590080    \n",
      "_________________________________________________________________\n",
      "block3_pool (MaxPooling2D)   (None, 30, 43, 256)       0         \n",
      "_________________________________________________________________\n",
      "block4_conv1 (Conv2D)        (None, 30, 43, 512)       1180160   \n",
      "_________________________________________________________________\n",
      "block4_conv2 (Conv2D)        (None, 30, 43, 512)       2359808   \n",
      "_________________________________________________________________\n",
      "block4_conv3 (Conv2D)        (None, 30, 43, 512)       2359808   \n",
      "_________________________________________________________________\n",
      "block4_pool (MaxPooling2D)   (None, 15, 21, 512)       0         \n",
      "_________________________________________________________________\n",
      "block5_conv1 (Conv2D)        (None, 15, 21, 512)       2359808   \n",
      "_________________________________________________________________\n",
      "block5_conv2 (Conv2D)        (None, 15, 21, 512)       2359808   \n",
      "_________________________________________________________________\n",
      "block5_conv3 (Conv2D)        (None, 15, 21, 512)       2359808   \n",
      "_________________________________________________________________\n",
      "block5_pool (MaxPooling2D)   (None, 7, 10, 512)        0         \n",
      "_________________________________________________________________\n",
      "flatten (Flatten)            (None, 35840)             0         \n",
      "=================================================================\n",
      "Total params: 14,714,688\n",
      "Trainable params: 14,714,688\n",
      "Non-trainable params: 0\n",
      "_________________________________________________________________\n"
     ]
    }
   ],
   "source": [
    "model = VGG16(include_top=False,input_tensor=Input(shape=(240, 350, 3)))\n",
    "flat1 = Flatten()(model.layers[-1].output)\n",
    "model = Model(inputs=model.inputs, outputs=flat1)\n",
    "model.summary()"
   ]
  },
  {
   "cell_type": "code",
   "execution_count": 5,
   "id": "thorough-badge",
   "metadata": {},
   "outputs": [
    {
     "name": "stdout",
     "output_type": "stream",
     "text": [
      "total number of names in the training triplets:  5000\n",
      "total number of images:  10000\n"
     ]
    }
   ],
   "source": [
    "with open('dataset/train_triplets.txt') as f:\n",
    "    triplets_original = f.readlines()\n",
    "triplets_original = [line.strip(\"\\n\").split(\" \") for line in triplets_original]\n",
    "\n",
    "triplets = []\n",
    "labels = []\n",
    "for i,names in enumerate(triplets_original):\n",
    "    tmp = {}\n",
    "    tmp['B'] = names[1]\n",
    "    tmp['C'] = names[2]\n",
    "    #print(copy)\n",
    "    l = list(tmp.items())\n",
    "    random.shuffle(l)\n",
    "    d = dict(l)\n",
    "    #print(l)\n",
    "    triplets.append([names[0],l[0][1],l[1][1]])\n",
    "    #print(new_lines)\n",
    "    if d['B'] == l[0][1]:\n",
    "        labels.append(1.)\n",
    "    else:\n",
    "        labels.append(0.)\n",
    "\n",
    "#save the names of the images in order of appearance! (can be useful)\n",
    "names_list = []\n",
    "for triplet in triplets:\n",
    "    for name in triplet:\n",
    "        if name not in names_list:\n",
    "            names_list.append(name)\n",
    "print(\"total number of names in the training triplets: \",len(names_list))\n",
    "print(\"total number of images: \",len(food_path))\n",
    "\n"
   ]
  },
  {
   "cell_type": "code",
   "execution_count": null,
   "id": "revised-surgery",
   "metadata": {},
   "outputs": [],
   "source": [
    "#COMPUTE FEATURES WITH VGG\n",
    "#WARNING: takes for ever!!!!!\n",
    "dt_string = datetime.now().strftime(\"%d/%m/%Y %H:%M:%S\")\n",
    "print(\"date and time =\", dt_string)\n",
    "\n",
    "print(\"total number of images to preprocess: \",len(names_list))\n",
    "features = {}\n",
    "for name in names_list:\n",
    "    features[name] = model.predict(images_dic[name])\n",
    "    #print(features.shape)\n",
    "\n",
    "# save\n",
    "print(features)\n",
    "with open(\"features_\"+model_name+\"_all.pickle\", \"wb\") as fp:   #Pickling\n",
    "    pickle.dump(features, fp)\n",
    "\n",
    "dt_string = datetime.now().strftime(\"%d/%m/%Y %H:%M:%S\")\n",
    "print(\"date and time =\", dt_string)"
   ]
  },
  {
   "cell_type": "code",
   "execution_count": 6,
   "id": "accredited-river",
   "metadata": {},
   "outputs": [],
   "source": [
    "# Load the features -> takes less time :)\n",
    "with open(\"features_vgg_all.pickle\", \"rb\") as fp:   # Unpickling\n",
    "       features = pickle.load(fp)"
   ]
  },
  {
   "cell_type": "code",
   "execution_count": 7,
   "id": "bronze-noise",
   "metadata": {},
   "outputs": [],
   "source": [
    "# preprocessing for DNN\n",
    "training_dataset = []\n",
    "\n",
    "for triplet in triplets:\n",
    "    tmp = np.hstack(( features[triplet[0]][0], features[triplet[1]][0],features[triplet[2]][0]))\n",
    "    training_dataset.append(tmp)\n",
    "\n"
   ]
  },
  {
   "cell_type": "code",
   "execution_count": 18,
   "id": "dedicated-freight",
   "metadata": {},
   "outputs": [],
   "source": [
    "# split train and test manually (train_test_split function takes for ever for some reason)\n",
    "\n",
    "#randomize them together\n",
    "c = list(zip(training_dataset, labels))\n",
    "random.shuffle(c)\n",
    "training_dataset, labels = zip(*c)\n",
    "print(\"shuffled\")\n",
    "\n",
    "dt_string = datetime.now().strftime(\"%d/%m/%Y %H:%M:%S\")\n",
    "print(\"date and time =\", dt_string)\n",
    "\n",
    "#train and vt samples\n",
    "train_size = 0.8\n",
    "X_train = np.array(training_dataset[:int(len(training_dataset)*train_size)])\n",
    "y_train = np.array(labels[:int(len(labels)*train_size)])\n",
    "\n",
    "X_vt = np.array(training_dataset[int(len(training_dataset)*train_size):])\n",
    "y_vt = np.array(labels[int(len(labels)*train_size):])\n",
    "\n",
    "#validation and test samples\n",
    "validation_size = 0.5\n",
    "X_validation = np.array(X_vt[:int(len(X_vt)*validation_size)])\n",
    "y_validation = np.array(y_vt[:int(len(y_vt)*validation_size)])\n",
    "\n",
    "X_test = np.array(X_vt[int(len(X_vt)*validation_size):])\n",
    "y_test = np.array(y_vt[int(len(y_vt)*validation_size):])\n",
    "\n",
    "dt_string = datetime.now().strftime(\"%d/%m/%Y %H:%M:%S\")\n",
    "print(\"date and time =\", dt_string)"
   ]
  },
  {
   "cell_type": "code",
   "execution_count": 19,
   "id": "breeding-training",
   "metadata": {},
   "outputs": [
    {
     "name": "stdout",
     "output_type": "stream",
     "text": [
      "47612 11903 5951 5952\n"
     ]
    }
   ],
   "source": [
    "print(len(X_train),len(X_vt),len(X_validation),len(X_test))"
   ]
  },
  {
   "cell_type": "code",
   "execution_count": 27,
   "id": "hazardous-morris",
   "metadata": {},
   "outputs": [
    {
     "data": {
      "text/plain": [
       "(47612, 107520)"
      ]
     },
     "execution_count": 27,
     "metadata": {},
     "output_type": "execute_result"
    }
   ],
   "source": [
    "X_train.shape"
   ]
  },
  {
   "cell_type": "code",
   "execution_count": 20,
   "id": "engaging-maintenance",
   "metadata": {},
   "outputs": [],
   "source": [
    "# Easy Model \n",
    "\n",
    "activation = 'relu'\n",
    "input  = Input((X_train.shape[1],))\n",
    "layer  = Dense(64, activation=activation   , name='dense1')(input)\n",
    "layer  = Dense(12, activation=activation   , name='dense2')(layer)\n",
    "output = Dense(  1, activation='sigmoid', name='output', )(layer)\n",
    "\n",
    "model = Model(input, output)\n",
    "\n",
    "model.compile(\n",
    "  optimizer='adam',\n",
    "  loss='binary_crossentropy',\n",
    "  metrics=['acc','mae'],\n",
    ")"
   ]
  },
  {
   "cell_type": "code",
   "execution_count": 23,
   "id": "efficient-library",
   "metadata": {},
   "outputs": [
    {
     "name": "stdout",
     "output_type": "stream",
     "text": [
      "Epoch 1/40\n",
      "239/239 [==============================] - 33s 136ms/step - loss: 1.2525 - acc: 0.6167 - mae: 0.3947 - val_loss: 1.0268 - val_acc: 0.5940 - val_mae: 0.4192\n",
      "Epoch 2/40\n",
      "239/239 [==============================] - 32s 133ms/step - loss: 0.7083 - acc: 0.6790 - mae: 0.3610 - val_loss: 0.8131 - val_acc: 0.6221 - val_mae: 0.4111\n",
      "Epoch 3/40\n",
      "239/239 [==============================] - 32s 134ms/step - loss: 0.6159 - acc: 0.7001 - mae: 0.3548 - val_loss: 0.7747 - val_acc: 0.6224 - val_mae: 0.4137\n",
      "Epoch 4/40\n",
      "239/239 [==============================] - 32s 134ms/step - loss: 0.5704 - acc: 0.7152 - mae: 0.3521 - val_loss: 0.7530 - val_acc: 0.6239 - val_mae: 0.4112\n",
      "Epoch 5/40\n",
      "239/239 [==============================] - 34s 141ms/step - loss: 0.5499 - acc: 0.7267 - mae: 0.3498 - val_loss: 0.7318 - val_acc: 0.6192 - val_mae: 0.4163\n",
      "Epoch 6/40\n",
      "239/239 [==============================] - 30s 126ms/step - loss: 0.5410 - acc: 0.7302 - mae: 0.3494 - val_loss: 0.7004 - val_acc: 0.6301 - val_mae: 0.4161\n",
      "Epoch 7/40\n",
      "239/239 [==============================] - 33s 140ms/step - loss: 0.5288 - acc: 0.7399 - mae: 0.3469 - val_loss: 0.6959 - val_acc: 0.6416 - val_mae: 0.4114\n",
      "Epoch 8/40\n",
      "239/239 [==============================] - 33s 137ms/step - loss: 0.5196 - acc: 0.7447 - mae: 0.3423 - val_loss: 0.6996 - val_acc: 0.6379 - val_mae: 0.4102\n",
      "Epoch 9/40\n",
      "239/239 [==============================] - 32s 136ms/step - loss: 0.5120 - acc: 0.7493 - mae: 0.3373 - val_loss: 0.7156 - val_acc: 0.6397 - val_mae: 0.4089\n",
      "Epoch 10/40\n",
      "239/239 [==============================] - 33s 139ms/step - loss: 0.4865 - acc: 0.7666 - mae: 0.3196 - val_loss: 0.6495 - val_acc: 0.6750 - val_mae: 0.3800\n",
      "Epoch 11/40\n",
      "239/239 [==============================] - 29s 123ms/step - loss: 0.4353 - acc: 0.8006 - mae: 0.2802 - val_loss: 0.6372 - val_acc: 0.7016 - val_mae: 0.3464\n",
      "Epoch 12/40\n",
      "239/239 [==============================] - 30s 124ms/step - loss: 0.3902 - acc: 0.8252 - mae: 0.2477 - val_loss: 0.7319 - val_acc: 0.6785 - val_mae: 0.3507\n",
      "Epoch 13/40\n",
      "239/239 [==============================] - 30s 126ms/step - loss: 0.3581 - acc: 0.8425 - mae: 0.2255 - val_loss: 0.6806 - val_acc: 0.7185 - val_mae: 0.3166\n",
      "Epoch 14/40\n",
      "239/239 [==============================] - 29s 123ms/step - loss: 0.3150 - acc: 0.8631 - mae: 0.1955 - val_loss: 0.7009 - val_acc: 0.7130 - val_mae: 0.3171\n",
      "Epoch 15/40\n",
      "239/239 [==============================] - 29s 123ms/step - loss: 0.2852 - acc: 0.8767 - mae: 0.1760 - val_loss: 0.6980 - val_acc: 0.7288 - val_mae: 0.2976\n",
      "Epoch 16/40\n",
      "239/239 [==============================] - 29s 122ms/step - loss: 0.2594 - acc: 0.8870 - mae: 0.1601 - val_loss: 0.6838 - val_acc: 0.7332 - val_mae: 0.2922\n",
      "Epoch 17/40\n",
      "239/239 [==============================] - 30s 124ms/step - loss: 0.2455 - acc: 0.8957 - mae: 0.1499 - val_loss: 0.7637 - val_acc: 0.7338 - val_mae: 0.2876\n",
      "Epoch 18/40\n",
      "239/239 [==============================] - 29s 122ms/step - loss: 0.2241 - acc: 0.9056 - mae: 0.1357 - val_loss: 0.7484 - val_acc: 0.7451 - val_mae: 0.2768\n",
      "Epoch 19/40\n",
      "239/239 [==============================] - 29s 122ms/step - loss: 0.2117 - acc: 0.9110 - mae: 0.1267 - val_loss: 0.8036 - val_acc: 0.7479 - val_mae: 0.2702\n",
      "Epoch 20/40\n",
      "239/239 [==============================] - 29s 122ms/step - loss: 0.1859 - acc: 0.9222 - mae: 0.1119 - val_loss: 0.8588 - val_acc: 0.7478 - val_mae: 0.2675\n",
      "Epoch 21/40\n",
      "239/239 [==============================] - 30s 126ms/step - loss: 0.1739 - acc: 0.9273 - mae: 0.1043 - val_loss: 0.8808 - val_acc: 0.7484 - val_mae: 0.2662\n",
      "Epoch 22/40\n",
      "239/239 [==============================] - 29s 123ms/step - loss: 0.1762 - acc: 0.9272 - mae: 0.1045 - val_loss: 0.8741 - val_acc: 0.7483 - val_mae: 0.2660\n",
      "Epoch 23/40\n",
      "239/239 [==============================] - 29s 123ms/step - loss: 0.1500 - acc: 0.9395 - mae: 0.0903 - val_loss: 0.9746 - val_acc: 0.7545 - val_mae: 0.2580\n",
      "Epoch 24/40\n",
      "239/239 [==============================] - 31s 130ms/step - loss: 0.1515 - acc: 0.9387 - mae: 0.0886 - val_loss: 0.9903 - val_acc: 0.7521 - val_mae: 0.2613\n",
      "Epoch 25/40\n",
      "239/239 [==============================] - 33s 138ms/step - loss: 0.1367 - acc: 0.9452 - mae: 0.0814 - val_loss: 1.0293 - val_acc: 0.7481 - val_mae: 0.2602\n",
      "Epoch 26/40\n",
      "239/239 [==============================] - 33s 136ms/step - loss: 0.1301 - acc: 0.9480 - mae: 0.0759 - val_loss: 1.0857 - val_acc: 0.7537 - val_mae: 0.2581\n",
      "Epoch 27/40\n",
      "239/239 [==============================] - 32s 133ms/step - loss: 0.1241 - acc: 0.9515 - mae: 0.0723 - val_loss: 1.1596 - val_acc: 0.7414 - val_mae: 0.2684\n",
      "Epoch 28/40\n",
      "239/239 [==============================] - 34s 144ms/step - loss: 0.1201 - acc: 0.9533 - mae: 0.0699 - val_loss: 1.1564 - val_acc: 0.7496 - val_mae: 0.2570\n",
      "Epoch 29/40\n",
      "239/239 [==============================] - 33s 138ms/step - loss: 0.1116 - acc: 0.9571 - mae: 0.0642 - val_loss: 1.0572 - val_acc: 0.7515 - val_mae: 0.2608\n",
      "Epoch 30/40\n",
      "239/239 [==============================] - 33s 138ms/step - loss: 0.1074 - acc: 0.9598 - mae: 0.0619 - val_loss: 1.2522 - val_acc: 0.7464 - val_mae: 0.2616\n",
      "Epoch 31/40\n",
      "239/239 [==============================] - 32s 133ms/step - loss: 0.1178 - acc: 0.9563 - mae: 0.0663 - val_loss: 1.1976 - val_acc: 0.7584 - val_mae: 0.2506\n",
      "Epoch 32/40\n",
      "239/239 [==============================] - 32s 135ms/step - loss: 0.0845 - acc: 0.9696 - mae: 0.0501 - val_loss: 1.3859 - val_acc: 0.7592 - val_mae: 0.2474\n",
      "Epoch 33/40\n",
      "239/239 [==============================] - 31s 131ms/step - loss: 0.0936 - acc: 0.9674 - mae: 0.0513 - val_loss: 1.2706 - val_acc: 0.7552 - val_mae: 0.2540\n",
      "Epoch 34/40\n",
      "239/239 [==============================] - 31s 131ms/step - loss: 0.0740 - acc: 0.9743 - mae: 0.0432 - val_loss: 1.4705 - val_acc: 0.7557 - val_mae: 0.2530\n",
      "Epoch 35/40\n",
      "239/239 [==============================] - 35s 147ms/step - loss: 0.0814 - acc: 0.9728 - mae: 0.0438 - val_loss: 1.5697 - val_acc: 0.7411 - val_mae: 0.2628\n",
      "Epoch 36/40\n",
      "239/239 [==============================] - 33s 140ms/step - loss: 0.0932 - acc: 0.9678 - mae: 0.0507 - val_loss: 1.3748 - val_acc: 0.7552 - val_mae: 0.2509\n",
      "Epoch 37/40\n",
      "239/239 [==============================] - 30s 127ms/step - loss: 0.0619 - acc: 0.9801 - mae: 0.0356 - val_loss: 1.4728 - val_acc: 0.7610 - val_mae: 0.2461\n",
      "Epoch 38/40\n",
      "239/239 [==============================] - 31s 132ms/step - loss: 0.0605 - acc: 0.9805 - mae: 0.0332 - val_loss: 1.5197 - val_acc: 0.7558 - val_mae: 0.2527\n",
      "Epoch 39/40\n",
      "239/239 [==============================] - 32s 132ms/step - loss: 0.0707 - acc: 0.9772 - mae: 0.0378 - val_loss: 1.4934 - val_acc: 0.7594 - val_mae: 0.2488\n",
      "Epoch 40/40\n",
      "239/239 [==============================] - 30s 127ms/step - loss: 0.0634 - acc: 0.9797 - mae: 0.0344 - val_loss: 1.6314 - val_acc: 0.7584 - val_mae: 0.2497\n"
     ]
    }
   ],
   "source": [
    "history = model.fit(X_train, y_train,validation_data = (X_validation,y_validation), epochs=40, batch_size=200)"
   ]
  },
  {
   "cell_type": "code",
   "execution_count": 24,
   "id": "appreciated-member",
   "metadata": {},
   "outputs": [
    {
     "data": {
      "image/png": "[encoded data removed]",
      "text/plain": [
       "<Figure size 432x288 with 1 Axes>"
      ]
     },
     "metadata": {
      "needs_background": "light"
     },
     "output_type": "display_data"
    }
   ],
   "source": [
    "# loss plot\n",
    "plt.plot(history.history['loss'], label='train')\n",
    "plt.plot(history.history['val_loss'], label='test')\n",
    "plt.legend()\n",
    "# plt.yscale('log')\n",
    "center = min(history.history['val_loss'] + history.history['loss'])\n",
    "plt.grid(True)\n",
    "\n",
    "plt.show()"
   ]
  },
  {
   "cell_type": "code",
   "execution_count": 25,
   "id": "diverse-shooting",
   "metadata": {},
   "outputs": [
    {
     "data": {
      "image/png": "[encoded data removed]",
      "text/plain": [
       "<Figure size 432x288 with 1 Axes>"
      ]
     },
     "metadata": {
      "needs_background": "light"
     },
     "output_type": "display_data"
    }
   ],
   "source": [
    "# plot accuracy trends for train and validation sample\n",
    "plt.title('accuracy')\n",
    "plt.plot(history.history['acc'], label='train')\n",
    "plt.plot(history.history['val_acc'], label='test')\n",
    "plt.legend()\n",
    "center = max(history.history['val_acc'] +  history.history['acc'])\n",
    "# plt.yscale('log')\n",
    "plt.grid(True)\n",
    "plt.show()"
   ]
  },
  {
   "cell_type": "code",
   "execution_count": 26,
   "id": "english-clark",
   "metadata": {},
   "outputs": [
    {
     "data": {
      "image/png": "[encoded data removed]",
      "text/plain": [
       "<Figure size 432x288 with 1 Axes>"
      ]
     },
     "metadata": {
      "needs_background": "light"
     },
     "output_type": "display_data"
    }
   ],
   "source": [
    "# plot accuracy trends for train and validation sample\n",
    "plt.title('mean absolute error')\n",
    "plt.plot(history.history['mae'], label='train')\n",
    "plt.plot(history.history['val_mae'], label='test')\n",
    "plt.legend()\n",
    "center = min(history.history['val_mae'] + history.history['mae'])\n",
    "# plt.yscale('log')\n",
    "plt.grid(True)\n",
    "\n",
    "plt.show()\n",
    "\n"
   ]
  },
  {
   "cell_type": "code",
   "execution_count": null,
   "id": "cordless-experience",
   "metadata": {},
   "outputs": [],
   "source": [
    "y_pred = model.predict(X_validation_one_hot)"
   ]
  }
 ],
 "metadata": {
  "kernelspec": {
   "display_name": "Python 3",
   "language": "python",
   "name": "python3"
  },
  "language_info": {
   "codemirror_mode": {
    "name": "ipython",
    "version": 3
   },
   "file_extension": ".py",
   "mimetype": "text/x-python",
   "name": "python",
   "nbconvert_exporter": "python",
   "pygments_lexer": "ipython3",
   "version": "3.9.2"
  }
 },
 "nbformat": 4,
 "nbformat_minor": 5
}
