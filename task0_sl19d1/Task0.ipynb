{
 "cells": [
  {
   "cell_type": "code",
   "execution_count": 1,
   "id": "remarkable-elevation",
   "metadata": {},
   "outputs": [
    {
     "name": "stdout",
     "output_type": "stream",
     "text": [
      "         Id           x1           x2           x3           x4           x5  \\\n",
      "0     10000  -483.797492  1288.057065  -129.878712  -198.078388  -334.487592   \n",
      "1     10001  -316.407305    30.830556  -313.356726  -173.259184  -327.368719   \n",
      "2     10002 -2448.558997  -561.988408   355.098820   634.378170  -392.450091   \n",
      "3     10003  -942.120025   945.373015   140.910705  1753.565841  -347.223685   \n",
      "4     10004  1752.366157  -597.550816  -466.491398 -1094.792276  -645.424882   \n",
      "...     ...          ...          ...          ...          ...          ...   \n",
      "1995  11995   -70.207810   328.849423  1006.084617   440.948562  -692.274282   \n",
      "1996  11996 -1692.417164   968.971133  1371.423442  -144.224724   503.164492   \n",
      "1997  11997   199.864648   261.345779  -127.986805  -298.503216  -364.240174   \n",
      "1998  11998  -151.673157 -1425.199620  1070.922114   938.800763  1373.176372   \n",
      "1999  11999   -97.089983   780.444250   221.081520    72.748763 -1484.861623   \n",
      "\n",
      "               x6           x7           x8           x9          x10  \n",
      "0     -391.443186  -612.406176  -676.523964  1327.229655  -448.695446  \n",
      "1      944.368248  1122.017380   112.338731  1372.340221  2062.561842  \n",
      "2     -813.156399  -232.873263   246.801210  -562.413197  -841.602015  \n",
      "3    -1489.493408  -508.035412  1992.650031   555.461973 -1696.076948  \n",
      "4     -202.154830   205.073469  -270.385827  -310.299496   362.212675  \n",
      "...           ...          ...          ...          ...          ...  \n",
      "1995   237.091043  -565.192046  1893.955311  1277.944394   789.953338  \n",
      "1996  -228.219798   153.761541  1872.043587  2153.553632     6.797203  \n",
      "1997 -1370.134911   769.662730  -517.182892    79.694141  1016.126607  \n",
      "1998  -583.905998  -292.269529 -1206.766021 -1047.464871     7.588102  \n",
      "1999   462.159812  1549.025158  2531.705492   -35.722034   173.200191  \n",
      "\n",
      "[2000 rows x 11 columns]\n"
     ]
    }
   ],
   "source": [
    "import pandas as pd\n",
    "df = pd.read_csv('test.csv')\n",
    "print(df)"
   ]
  },
  {
   "cell_type": "code",
   "execution_count": 5,
   "id": "helpful-moment",
   "metadata": {},
   "outputs": [],
   "source": [
    "df['y'] = df['x1']\n",
    "for i in range(2,11):\n",
    "    df['y'] += df['x'+str(i)]"
   ]
  },
  {
   "cell_type": "code",
   "execution_count": 6,
   "id": "aquatic-prague",
   "metadata": {},
   "outputs": [
    {
     "ename": "ModuleNotFoundError",
     "evalue": "No module named 'sklearn'",
     "output_type": "error",
     "traceback": [
      "\u001b[0;31m---------------------------------------------------------------------------\u001b[0m",
      "\u001b[0;31mModuleNotFoundError\u001b[0m                       Traceback (most recent call last)",
      "\u001b[0;32m<ipython-input-6-534151e31f77>\u001b[0m in \u001b[0;36m<module>\u001b[0;34m\u001b[0m\n\u001b[0;32m----> 1\u001b[0;31m \u001b[0;32mfrom\u001b[0m \u001b[0msklearn\u001b[0m\u001b[0;34m.\u001b[0m\u001b[0mmetrics\u001b[0m \u001b[0;32mimport\u001b[0m \u001b[0mmean_squared_error\u001b[0m\u001b[0;34m\u001b[0m\u001b[0;34m\u001b[0m\u001b[0m\n\u001b[0m",
      "\u001b[0;31mModuleNotFoundError\u001b[0m: No module named 'sklearn'"
     ]
    }
   ],
   "source": [
    "from sklearn.metrics import mean_squared_error\n"
   ]
  },
  {
   "cell_type": "code",
   "execution_count": null,
   "id": "temporal-midwest",
   "metadata": {},
   "outputs": [],
   "source": []
  }
 ],
 "metadata": {
  "kernelspec": {
   "display_name": "Python 3",
   "language": "python",
   "name": "python3"
  },
  "language_info": {
   "codemirror_mode": {
    "name": "ipython",
    "version": 3
   },
   "file_extension": ".py",
   "mimetype": "text/x-python",
   "name": "python",
   "nbconvert_exporter": "python",
   "pygments_lexer": "ipython3",
   "version": "3.9.2"
  }
 },
 "nbformat": 4,
 "nbformat_minor": 5
}
