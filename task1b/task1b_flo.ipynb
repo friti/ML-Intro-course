{
 "cells": [
  {
   "cell_type": "code",
   "execution_count": 1,
   "metadata": {},
   "outputs": [],
   "source": [
    "import pandas as pd\n",
    "import numpy as np\n",
    "import matplotlib.pyplot as plt\n",
    "\n",
    "from sklearn import preprocessing\n",
    "from sklearn.linear_model import LinearRegression, Ridge, Lasso\n",
    "from sklearn.model_selection import train_test_split, GridSearchCV\n",
    "from sklearn import metrics"
   ]
  },
  {
   "cell_type": "code",
   "execution_count": 2,
   "metadata": {},
   "outputs": [],
   "source": [
    "## Read training data\n",
    "train_data = pd.read_csv('datasets/train.csv', delimiter=',')\n",
    "X = train_data.iloc[:,2:]\n",
    "y = train_data.iloc[:,1]"
   ]
  },
  {
   "cell_type": "code",
   "execution_count": 3,
   "metadata": {},
   "outputs": [
    {
     "name": "stdout",
     "output_type": "stream",
     "text": [
      "\n",
      "===== CHECK DATA =====\n",
      "TRAIN DATA\n",
      "   Id         y    x1    x2    x3    x4    x5\n",
      "0   0 -6.822679  0.02  0.05 -0.09 -0.43 -0.08\n",
      "1   1 -6.326290 -0.13  0.11 -0.08 -0.29 -0.03\n",
      "2   2 -9.302728  0.08  0.06 -0.07 -0.41 -0.03\n",
      "3   3 -7.371893  0.02 -0.12  0.01 -0.43 -0.02\n",
      "4   4 -6.027647 -0.14 -0.12 -0.08 -0.02 -0.08\n",
      "\n",
      "\n",
      "ORIGINAL FEATURES\n",
      "     x1    x2    x3    x4    x5\n",
      "0  0.02  0.05 -0.09 -0.43 -0.08\n",
      "1 -0.13  0.11 -0.08 -0.29 -0.03\n",
      "2  0.08  0.06 -0.07 -0.41 -0.03\n",
      "3  0.02 -0.12  0.01 -0.43 -0.02\n",
      "4 -0.14 -0.12 -0.08 -0.02 -0.08\n",
      "\n",
      "\n",
      "TARGET\n",
      "0   -6.822679\n",
      "1   -6.326290\n",
      "2   -9.302728\n",
      "3   -7.371893\n",
      "4   -6.027647\n",
      "Name: y, dtype: float64\n"
     ]
    }
   ],
   "source": [
    "## Check data\n",
    "print(\"\\n===== CHECK DATA =====\")\n",
    "print(\"TRAIN DATA\")\n",
    "print(train_data.head())\n",
    "print(\"\\n\")\n",
    "print(\"ORIGINAL FEATURES\")\n",
    "print(X.head())\n",
    "print(\"\\n\")\n",
    "print(\"TARGET\")\n",
    "print(y.head())"
   ]
  },
  {
   "cell_type": "code",
   "execution_count": 7,
   "metadata": {},
   "outputs": [
    {
     "name": "stdout",
     "output_type": "stream",
     "text": [
      "NEW FEATURES\n",
      "     x1    x2    x3    x4    x5      x6      x7      x8      x9     x10  ...  \\\n",
      "0  0.02  0.05 -0.09 -0.43 -0.08  0.0004  0.0025  0.0081  0.1849  0.0064  ...   \n",
      "1 -0.13  0.11 -0.08 -0.29 -0.03  0.0169  0.0121  0.0064  0.0841  0.0009  ...   \n",
      "2  0.08  0.06 -0.07 -0.41 -0.03  0.0064  0.0036  0.0049  0.1681  0.0009  ...   \n",
      "3  0.02 -0.12  0.01 -0.43 -0.02  0.0004  0.0144  0.0001  0.1849  0.0004  ...   \n",
      "4 -0.14 -0.12 -0.08 -0.02 -0.08  0.0196  0.0144  0.0064  0.0004  0.0064  ...   \n",
      "\n",
      "        x12       x13       x14       x15       x16       x17       x18  \\\n",
      "0  1.051271  0.913931  0.650509  0.923116  0.999800  0.998750  0.995953   \n",
      "1  1.116278  0.923116  0.748264  0.970446  0.991562  0.993956  0.996802   \n",
      "2  1.061837  0.932394  0.663650  0.970446  0.996802  0.998201  0.997551   \n",
      "3  0.886920  1.010050  0.650509  0.980199  0.999800  0.992809  0.999950   \n",
      "4  0.886920  0.923116  0.980199  0.923116  0.990216  0.992809  0.996802   \n",
      "\n",
      "        x19       x20  x21  \n",
      "0  0.908966  0.996802    1  \n",
      "1  0.958244  0.999550    1  \n",
      "2  0.917121  0.999550    1  \n",
      "3  0.908966  0.999800    1  \n",
      "4  0.999800  0.996802    1  \n",
      "\n",
      "[5 rows x 21 columns]\n"
     ]
    }
   ],
   "source": [
    "## Make the new features\n",
    "# phi_j(x) = x_j\n",
    "\n",
    "# Linear features are already the x1, ..., x5\n",
    "\n",
    "# Quadratic features\n",
    "X[\"x6\"] = X[\"x1\"]**2\n",
    "X[\"x7\"] = X[\"x2\"]**2\n",
    "X[\"x8\"] = X[\"x3\"]**2\n",
    "X[\"x9\"] = X[\"x4\"]**2\n",
    "X[\"x10\"] = X[\"x5\"]**2\n",
    "\n",
    "# Exponential features\n",
    "X[\"x11\"] = np.exp(X[\"x1\"])\n",
    "X[\"x12\"] = np.exp(X[\"x2\"])\n",
    "X[\"x13\"] = np.exp(X[\"x3\"])\n",
    "X[\"x14\"] = np.exp(X[\"x4\"])\n",
    "X[\"x15\"] = np.exp(X[\"x5\"])\n",
    "\n",
    "# Cosine features\n",
    "X[\"x16\"] = np.cos(X[\"x1\"])\n",
    "X[\"x17\"] = np.cos(X[\"x2\"])\n",
    "X[\"x18\"] = np.cos(X[\"x3\"])\n",
    "X[\"x19\"] = np.cos(X[\"x4\"])\n",
    "X[\"x20\"] = np.cos(X[\"x5\"])\n",
    "\n",
    "# Constant\n",
    "X[\"x21\"] = 1\n",
    "\n",
    "# Check new features\n",
    "print(\"NEW FEATURES\")\n",
    "print(X.head())"
   ]
  },
  {
   "cell_type": "code",
   "execution_count": 48,
   "metadata": {},
   "outputs": [
    {
     "name": "stdout",
     "output_type": "stream",
     "text": [
      "       x1    x2    x3    x4    x5      x6      x7      x8      x9     x10  \\\n",
      "676  0.22  0.07 -0.03 -0.43 -0.02  0.0484  0.0049  0.0009  0.1849  0.0004   \n",
      "175 -0.12 -0.18 -0.08 -0.24 -0.03  0.0144  0.0324  0.0064  0.0576  0.0009   \n",
      "255 -0.29 -0.20  0.04 -0.23 -0.19  0.0841  0.0400  0.0016  0.0529  0.0361   \n",
      "684 -0.45 -0.15  0.11 -0.43 -0.11  0.2025  0.0225  0.0121  0.1849  0.0121   \n",
      "442 -0.26 -0.06 -0.22 -0.30 -0.05  0.0676  0.0036  0.0484  0.0900  0.0025   \n",
      "\n",
      "     ...       x12       x13       x14       x15       x16       x17  \\\n",
      "676  ...  1.072508  0.970446  0.650509  0.980199  0.975897  0.997551   \n",
      "175  ...  0.835270  0.923116  0.786628  0.970446  0.992809  0.983844   \n",
      "255  ...  0.818731  1.040811  0.794534  0.826959  0.958244  0.980067   \n",
      "684  ...  0.860708  1.116278  0.650509  0.895834  0.900447  0.988771   \n",
      "442  ...  0.941765  0.802519  0.740818  0.951229  0.966390  0.998201   \n",
      "\n",
      "          x18       x19       x20  x21  \n",
      "676  0.999550  0.908966  0.999800    1  \n",
      "175  0.996802  0.971338  0.999550    1  \n",
      "255  0.999200  0.973666  0.982004    1  \n",
      "684  0.993956  0.908966  0.993956    1  \n",
      "442  0.975897  0.955336  0.998750    1  \n",
      "\n",
      "[5 rows x 21 columns]\n",
      "\n",
      "Training and evaluating model LinearRegression\n",
      "[    62.7248146     -61.78178347    328.13308002    380.2660756\n",
      "   -725.70094215    240.74673255   -681.5761323   -5064.15947656\n",
      "   -928.11637742   -152.67764535    -61.98560323     59.30504833\n",
      "   -329.24251058   -377.49385079    729.40748719    436.24218882\n",
      "  -1323.53243663 -10494.0810382   -2228.81711869    337.46810174\n",
      "  13246.45998492]\n",
      "RMSE: 2.04e+00\n",
      "\n",
      "Training and evaluating model Ridge\n",
      "[ 0.65813572 -1.35018532 -1.06101968  0.16760702  0.19191585 -2.04229372\n",
      "  0.96256991  0.17658494 -0.25445647 -0.13376909 -0.40607595 -0.84798456\n",
      " -0.97044295  0.0618401   0.14366625  1.01443694 -0.48003224 -0.08889812\n",
      "  0.11788415  0.06412099  0.        ]\n",
      "RMSE: 1.77e+00\n",
      "\n",
      "Training and evaluating model Lasso\n",
      "[ 0.         -0.         -0.          0.05648416  0.         -0.\n",
      "  0.         -0.         -0.         -0.         -0.         -2.00546002\n",
      " -2.13722467 -0.         -0.         -0.         -2.3806714  -0.\n",
      " -0.         -0.         -0.        ]\n",
      "RMSE: 1.75e+00\n"
     ]
    }
   ],
   "source": [
    "## By hand estimations\n",
    "# Split into train and test\n",
    "X_train, X_test, y_train, y_test = train_test_split(X, y, train_size=0.8)\n",
    "# Check training features\n",
    "print(X_train.head())\n",
    "\n",
    "# Do not fit intercept as this is already taken care of by feature x21\n",
    "fit_intercept = False\n",
    "\n",
    "models = {\n",
    "    \"LinearRegression\": LinearRegression(fit_intercept=fit_intercept),\n",
    "    \"Ridge\": Ridge(alpha=0.5, max_iter=10000),\n",
    "    \"Lasso\": Lasso(alpha=0.01, fit_intercept=fit_intercept, max_iter=10000),\n",
    "}\n",
    "\n",
    "# Train and evaluate the performance of the model\n",
    "for model_name, model in models.items():\n",
    "    print(\"\\nTraining and evaluating model %s\" %model_name)\n",
    "    # Training\n",
    "    model.fit(X_train, y_train)\n",
    "    # Print coefficients\n",
    "    print(model.coef_)\n",
    "    # Make predictions for the test dataset\n",
    "    y_test_prediction = model.predict(X_test)\n",
    "    # Evaluate using RMSE\n",
    "    print(\"RMSE: %.2e\" %(np.sqrt(metrics.mean_squared_error(y_test, y_test_prediction))))"
   ]
  },
  {
   "cell_type": "code",
   "execution_count": 49,
   "metadata": {},
   "outputs": [
    {
     "name": "stderr",
     "output_type": "stream",
     "text": [
      "/opt/anaconda3/lib/python3.8/site-packages/sklearn/linear_model/_coordinate_descent.py:529: ConvergenceWarning: Objective did not converge. You might want to increase the number of iterations. Duality gap: 85.88256422195468, tolerance: 2.6074089643618277\n",
      "  model = cd_fast.enet_coordinate_descent(\n",
      "/opt/anaconda3/lib/python3.8/site-packages/sklearn/linear_model/_coordinate_descent.py:529: ConvergenceWarning: Objective did not converge. You might want to increase the number of iterations. Duality gap: 24.941613663977023, tolerance: 2.6381086194579626\n",
      "  model = cd_fast.enet_coordinate_descent(\n",
      "/opt/anaconda3/lib/python3.8/site-packages/sklearn/linear_model/_coordinate_descent.py:529: ConvergenceWarning: Objective did not converge. You might want to increase the number of iterations. Duality gap: 77.07987035355563, tolerance: 2.6074089643618277\n",
      "  model = cd_fast.enet_coordinate_descent(\n",
      "/opt/anaconda3/lib/python3.8/site-packages/sklearn/linear_model/_coordinate_descent.py:529: ConvergenceWarning: Objective did not converge. You might want to increase the number of iterations. Duality gap: 17.378346061405182, tolerance: 2.6381086194579626\n",
      "  model = cd_fast.enet_coordinate_descent(\n",
      "/opt/anaconda3/lib/python3.8/site-packages/sklearn/linear_model/_coordinate_descent.py:529: ConvergenceWarning: Objective did not converge. You might want to increase the number of iterations. Duality gap: 70.60585602199671, tolerance: 2.6074089643618277\n",
      "  model = cd_fast.enet_coordinate_descent(\n",
      "/opt/anaconda3/lib/python3.8/site-packages/sklearn/linear_model/_coordinate_descent.py:529: ConvergenceWarning: Objective did not converge. You might want to increase the number of iterations. Duality gap: 11.650680599673706, tolerance: 2.6381086194579626\n",
      "  model = cd_fast.enet_coordinate_descent(\n",
      "/opt/anaconda3/lib/python3.8/site-packages/sklearn/linear_model/_coordinate_descent.py:529: ConvergenceWarning: Objective did not converge. You might want to increase the number of iterations. Duality gap: 5.734840149322736, tolerance: 2.613709486810427\n",
      "  model = cd_fast.enet_coordinate_descent(\n",
      "/opt/anaconda3/lib/python3.8/site-packages/sklearn/linear_model/_coordinate_descent.py:529: ConvergenceWarning: Objective did not converge. You might want to increase the number of iterations. Duality gap: 65.8510651422082, tolerance: 2.6074089643618277\n",
      "  model = cd_fast.enet_coordinate_descent(\n",
      "/opt/anaconda3/lib/python3.8/site-packages/sklearn/linear_model/_coordinate_descent.py:529: ConvergenceWarning: Objective did not converge. You might want to increase the number of iterations. Duality gap: 8.309755788341135, tolerance: 2.6381086194579626\n",
      "  model = cd_fast.enet_coordinate_descent(\n"
     ]
    },
    {
     "data": {
      "image/png": "[encoded data removed]",
      "text/plain": [
       "<Figure size 576x432 with 1 Axes>"
      ]
     },
     "metadata": {
      "needs_background": "light"
     },
     "output_type": "display_data"
    }
   ],
   "source": [
    "## Optimize Lasso regression parameter with a Grid Search\n",
    "#  Re-used sample code at https://scikit-learn.org/stable/auto_examples/exercises/plot_cv_diabetes.html\n",
    "lasso = Lasso(fit_intercept=fit_intercept, max_iter=10000)\n",
    "alphas = np.logspace(-4, -0.5, 30)\n",
    "\n",
    "tuned_parameters = [{'alpha': alphas}]\n",
    "n_folds = 7   # 100 events per fold\n",
    "\n",
    "clf = GridSearchCV(lasso, tuned_parameters, cv=n_folds, refit=True)\n",
    "clf.fit(X, y)\n",
    "scores = clf.cv_results_['mean_test_score']\n",
    "scores_std = clf.cv_results_['std_test_score']\n",
    "\n",
    "# Make figure\n",
    "plt.figure().set_size_inches(8, 6)\n",
    "plt.semilogx(alphas, scores)\n",
    "\n",
    "# plot error lines showing +/- std. errors of the scores\n",
    "std_error = scores_std / np.sqrt(n_folds)\n",
    "plt.semilogx(alphas, scores + std_error, 'b--')\n",
    "plt.semilogx(alphas, scores - std_error, 'b--')\n",
    "plt.fill_between(alphas, scores + std_error, scores - std_error, alpha=0.2)\n",
    "\n",
    "plt.ylabel('CV score +/- std error')\n",
    "plt.xlabel('alpha')\n",
    "plt.xlim([alphas[0], alphas[-1]])\n",
    "plt.savefig(\"alpha_grid_search.pdf\")"
   ]
  },
  {
   "cell_type": "code",
   "execution_count": 50,
   "metadata": {},
   "outputs": [
    {
     "name": "stdout",
     "output_type": "stream",
     "text": [
      "Best regression parameter: 3.42e-02\n"
     ]
    }
   ],
   "source": [
    "## Best regression parameter alpha\n",
    "alpha_best = alphas[np.argmax(scores)]\n",
    "print(\"Best regression parameter: %.2e\" %alpha_best)"
   ]
  },
  {
   "cell_type": "code",
   "execution_count": 51,
   "metadata": {},
   "outputs": [
    {
     "name": "stdout",
     "output_type": "stream",
     "text": [
      "[ 0.         -0.         -0.          0.          0.         -0.\n",
      "  0.          0.         -0.          0.         -0.09735143 -1.70115444\n",
      " -2.36995738 -0.         -0.         -0.74908748 -1.57227307 -0.\n",
      " -0.         -0.01984055 -0.        ]\n"
     ]
    }
   ],
   "source": [
    "## Train Lasso model for the best regression parameter on the whole dataset\n",
    "model = Lasso(alpha=alpha_best, fit_intercept=fit_intercept)\n",
    "model.fit(X, y)\n",
    "# Print coefficients\n",
    "print(model.coef_)"
   ]
  },
  {
   "cell_type": "code",
   "execution_count": 52,
   "metadata": {},
   "outputs": [],
   "source": [
    "## Make file to submit\n",
    "file = open(\"to_submit.txt\", \"w\") \n",
    "for coef in model.coef_:\n",
    "    file.write(str(coef)+\"\\n\")\n",
    "file.close()"
   ]
  },
  {
   "cell_type": "code",
   "execution_count": 53,
   "metadata": {},
   "outputs": [
    {
     "name": "stdout",
     "output_type": "stream",
     "text": [
      "0.0\r\n",
      "-0.0\r\n",
      "-0.0\r\n",
      "0.0\r\n",
      "0.0\r\n",
      "-0.0\r\n",
      "0.0\r\n",
      "0.0\r\n",
      "-0.0\r\n",
      "0.0\r\n",
      "-0.09735142827006918\r\n",
      "-1.7011544441507798\r\n",
      "-2.3699573762473896\r\n",
      "-0.0\r\n",
      "-0.0\r\n",
      "-0.749087477667419\r\n",
      "-1.5722730728859484\r\n",
      "-0.0\r\n",
      "-0.0\r\n",
      "-0.019840549600982388\r\n",
      "-0.0\r\n"
     ]
    }
   ],
   "source": [
    "! cat to_submit.txt"
   ]
  },
  {
   "cell_type": "code",
   "execution_count": null,
   "metadata": {},
   "outputs": [],
   "source": []
  }
 ],
 "metadata": {
  "kernelspec": {
   "display_name": "Python 3",
   "language": "python",
   "name": "python3"
  },
  "language_info": {
   "codemirror_mode": {
    "name": "ipython",
    "version": 3
   },
   "file_extension": ".py",
   "mimetype": "text/x-python",
   "name": "python",
   "nbconvert_exporter": "python",
   "pygments_lexer": "ipython3",
   "version": "3.8.3"
  }
 },
 "nbformat": 4,
 "nbformat_minor": 4
}
