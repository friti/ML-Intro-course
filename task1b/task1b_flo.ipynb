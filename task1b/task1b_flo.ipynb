{
 "cells": [
  {
   "cell_type": "code",
   "execution_count": 173,
   "metadata": {},
   "outputs": [],
   "source": [
    "import pandas as pd\n",
    "import numpy as np\n",
    "import matplotlib.pyplot as plt\n",
    "\n",
    "from sklearn import preprocessing\n",
    "from sklearn.linear_model import LinearRegression, Ridge, Lasso\n",
    "from sklearn.model_selection import train_test_split, GridSearchCV\n",
    "from sklearn import metrics"
   ]
  },
  {
   "cell_type": "code",
   "execution_count": 174,
   "metadata": {},
   "outputs": [],
   "source": [
    "## Read training data\n",
    "train_data = pd.read_csv('datasets/train.csv', delimiter=',')\n",
    "X = train_data.iloc[:,2:]\n",
    "y = train_data.iloc[:,1]\n",
    "X0 = pd.read_csv('datasets/train.csv', delimiter=',').iloc[:,2:]"
   ]
  },
  {
   "cell_type": "code",
   "execution_count": 175,
   "metadata": {},
   "outputs": [
    {
     "name": "stdout",
     "output_type": "stream",
     "text": [
      "\n",
      "===== CHECK DATA =====\n",
      "TRAIN DATA\n",
      "   Id         y    x1    x2    x3    x4    x5\n",
      "0   0 -6.822679  0.02  0.05 -0.09 -0.43 -0.08\n",
      "1   1 -6.326290 -0.13  0.11 -0.08 -0.29 -0.03\n",
      "2   2 -9.302728  0.08  0.06 -0.07 -0.41 -0.03\n",
      "3   3 -7.371893  0.02 -0.12  0.01 -0.43 -0.02\n",
      "4   4 -6.027647 -0.14 -0.12 -0.08 -0.02 -0.08\n",
      "\n",
      "\n",
      "ORIGINAL FEATURES\n",
      "     x1    x2    x3    x4    x5\n",
      "0  0.02  0.05 -0.09 -0.43 -0.08\n",
      "1 -0.13  0.11 -0.08 -0.29 -0.03\n",
      "2  0.08  0.06 -0.07 -0.41 -0.03\n",
      "3  0.02 -0.12  0.01 -0.43 -0.02\n",
      "4 -0.14 -0.12 -0.08 -0.02 -0.08\n",
      "\n",
      "\n",
      "TARGET\n",
      "0   -6.822679\n",
      "1   -6.326290\n",
      "2   -9.302728\n",
      "3   -7.371893\n",
      "4   -6.027647\n",
      "Name: y, dtype: float64\n"
     ]
    }
   ],
   "source": [
    "## Check data\n",
    "print(\"\\n===== CHECK DATA =====\")\n",
    "print(\"TRAIN DATA\")\n",
    "print(train_data.head())\n",
    "print(\"\\n\")\n",
    "print(\"ORIGINAL FEATURES\")\n",
    "print(X.head())\n",
    "print(\"\\n\")\n",
    "print(\"TARGET\")\n",
    "print(y.head())"
   ]
  },
  {
   "cell_type": "code",
   "execution_count": 176,
   "metadata": {},
   "outputs": [
    {
     "name": "stdout",
     "output_type": "stream",
     "text": [
      "NEW FEATURES\n"
     ]
    },
    {
     "data": {
      "text/html": [
       "<div>\n",
       "<style scoped>\n",
       "    .dataframe tbody tr th:only-of-type {\n",
       "        vertical-align: middle;\n",
       "    }\n",
       "\n",
       "    .dataframe tbody tr th {\n",
       "        vertical-align: top;\n",
       "    }\n",
       "\n",
       "    .dataframe thead th {\n",
       "        text-align: right;\n",
       "    }\n",
       "</style>\n",
       "<table border=\"1\" class=\"dataframe\">\n",
       "  <thead>\n",
       "    <tr style=\"text-align: right;\">\n",
       "      <th></th>\n",
       "      <th>x1</th>\n",
       "      <th>x2</th>\n",
       "      <th>x3</th>\n",
       "      <th>x4</th>\n",
       "      <th>x5</th>\n",
       "      <th>x6</th>\n",
       "      <th>x7</th>\n",
       "      <th>x8</th>\n",
       "      <th>x9</th>\n",
       "      <th>x10</th>\n",
       "      <th>...</th>\n",
       "      <th>x12</th>\n",
       "      <th>x13</th>\n",
       "      <th>x14</th>\n",
       "      <th>x15</th>\n",
       "      <th>x16</th>\n",
       "      <th>x17</th>\n",
       "      <th>x18</th>\n",
       "      <th>x19</th>\n",
       "      <th>x20</th>\n",
       "      <th>x21</th>\n",
       "    </tr>\n",
       "  </thead>\n",
       "  <tbody>\n",
       "    <tr>\n",
       "      <th>0</th>\n",
       "      <td>0.02</td>\n",
       "      <td>0.05</td>\n",
       "      <td>-0.09</td>\n",
       "      <td>-0.43</td>\n",
       "      <td>-0.08</td>\n",
       "      <td>0.0004</td>\n",
       "      <td>0.0025</td>\n",
       "      <td>0.0081</td>\n",
       "      <td>0.1849</td>\n",
       "      <td>0.0064</td>\n",
       "      <td>...</td>\n",
       "      <td>1.051271</td>\n",
       "      <td>0.913931</td>\n",
       "      <td>0.650509</td>\n",
       "      <td>0.923116</td>\n",
       "      <td>0.999800</td>\n",
       "      <td>0.998750</td>\n",
       "      <td>0.995953</td>\n",
       "      <td>0.908966</td>\n",
       "      <td>0.996802</td>\n",
       "      <td>1</td>\n",
       "    </tr>\n",
       "    <tr>\n",
       "      <th>1</th>\n",
       "      <td>-0.13</td>\n",
       "      <td>0.11</td>\n",
       "      <td>-0.08</td>\n",
       "      <td>-0.29</td>\n",
       "      <td>-0.03</td>\n",
       "      <td>0.0169</td>\n",
       "      <td>0.0121</td>\n",
       "      <td>0.0064</td>\n",
       "      <td>0.0841</td>\n",
       "      <td>0.0009</td>\n",
       "      <td>...</td>\n",
       "      <td>1.116278</td>\n",
       "      <td>0.923116</td>\n",
       "      <td>0.748264</td>\n",
       "      <td>0.970446</td>\n",
       "      <td>0.991562</td>\n",
       "      <td>0.993956</td>\n",
       "      <td>0.996802</td>\n",
       "      <td>0.958244</td>\n",
       "      <td>0.999550</td>\n",
       "      <td>1</td>\n",
       "    </tr>\n",
       "    <tr>\n",
       "      <th>2</th>\n",
       "      <td>0.08</td>\n",
       "      <td>0.06</td>\n",
       "      <td>-0.07</td>\n",
       "      <td>-0.41</td>\n",
       "      <td>-0.03</td>\n",
       "      <td>0.0064</td>\n",
       "      <td>0.0036</td>\n",
       "      <td>0.0049</td>\n",
       "      <td>0.1681</td>\n",
       "      <td>0.0009</td>\n",
       "      <td>...</td>\n",
       "      <td>1.061837</td>\n",
       "      <td>0.932394</td>\n",
       "      <td>0.663650</td>\n",
       "      <td>0.970446</td>\n",
       "      <td>0.996802</td>\n",
       "      <td>0.998201</td>\n",
       "      <td>0.997551</td>\n",
       "      <td>0.917121</td>\n",
       "      <td>0.999550</td>\n",
       "      <td>1</td>\n",
       "    </tr>\n",
       "    <tr>\n",
       "      <th>3</th>\n",
       "      <td>0.02</td>\n",
       "      <td>-0.12</td>\n",
       "      <td>0.01</td>\n",
       "      <td>-0.43</td>\n",
       "      <td>-0.02</td>\n",
       "      <td>0.0004</td>\n",
       "      <td>0.0144</td>\n",
       "      <td>0.0001</td>\n",
       "      <td>0.1849</td>\n",
       "      <td>0.0004</td>\n",
       "      <td>...</td>\n",
       "      <td>0.886920</td>\n",
       "      <td>1.010050</td>\n",
       "      <td>0.650509</td>\n",
       "      <td>0.980199</td>\n",
       "      <td>0.999800</td>\n",
       "      <td>0.992809</td>\n",
       "      <td>0.999950</td>\n",
       "      <td>0.908966</td>\n",
       "      <td>0.999800</td>\n",
       "      <td>1</td>\n",
       "    </tr>\n",
       "    <tr>\n",
       "      <th>4</th>\n",
       "      <td>-0.14</td>\n",
       "      <td>-0.12</td>\n",
       "      <td>-0.08</td>\n",
       "      <td>-0.02</td>\n",
       "      <td>-0.08</td>\n",
       "      <td>0.0196</td>\n",
       "      <td>0.0144</td>\n",
       "      <td>0.0064</td>\n",
       "      <td>0.0004</td>\n",
       "      <td>0.0064</td>\n",
       "      <td>...</td>\n",
       "      <td>0.886920</td>\n",
       "      <td>0.923116</td>\n",
       "      <td>0.980199</td>\n",
       "      <td>0.923116</td>\n",
       "      <td>0.990216</td>\n",
       "      <td>0.992809</td>\n",
       "      <td>0.996802</td>\n",
       "      <td>0.999800</td>\n",
       "      <td>0.996802</td>\n",
       "      <td>1</td>\n",
       "    </tr>\n",
       "  </tbody>\n",
       "</table>\n",
       "<p>5 rows × 21 columns</p>\n",
       "</div>"
      ],
      "text/plain": [
       "     x1    x2    x3    x4    x5      x6      x7      x8      x9     x10  ...  \\\n",
       "0  0.02  0.05 -0.09 -0.43 -0.08  0.0004  0.0025  0.0081  0.1849  0.0064  ...   \n",
       "1 -0.13  0.11 -0.08 -0.29 -0.03  0.0169  0.0121  0.0064  0.0841  0.0009  ...   \n",
       "2  0.08  0.06 -0.07 -0.41 -0.03  0.0064  0.0036  0.0049  0.1681  0.0009  ...   \n",
       "3  0.02 -0.12  0.01 -0.43 -0.02  0.0004  0.0144  0.0001  0.1849  0.0004  ...   \n",
       "4 -0.14 -0.12 -0.08 -0.02 -0.08  0.0196  0.0144  0.0064  0.0004  0.0064  ...   \n",
       "\n",
       "        x12       x13       x14       x15       x16       x17       x18  \\\n",
       "0  1.051271  0.913931  0.650509  0.923116  0.999800  0.998750  0.995953   \n",
       "1  1.116278  0.923116  0.748264  0.970446  0.991562  0.993956  0.996802   \n",
       "2  1.061837  0.932394  0.663650  0.970446  0.996802  0.998201  0.997551   \n",
       "3  0.886920  1.010050  0.650509  0.980199  0.999800  0.992809  0.999950   \n",
       "4  0.886920  0.923116  0.980199  0.923116  0.990216  0.992809  0.996802   \n",
       "\n",
       "        x19       x20  x21  \n",
       "0  0.908966  0.996802    1  \n",
       "1  0.958244  0.999550    1  \n",
       "2  0.917121  0.999550    1  \n",
       "3  0.908966  0.999800    1  \n",
       "4  0.999800  0.996802    1  \n",
       "\n",
       "[5 rows x 21 columns]"
      ]
     },
     "execution_count": 176,
     "metadata": {},
     "output_type": "execute_result"
    }
   ],
   "source": [
    "## Make the new features\n",
    "# phi_j(x) = x_j\n",
    "\n",
    "# Linear features are already the x1, ..., x5\n",
    "\n",
    "# Quadratic features\n",
    "X[\"x6\"] = X[\"x1\"]**2\n",
    "X[\"x7\"] = X[\"x2\"]**2\n",
    "X[\"x8\"] = X[\"x3\"]**2\n",
    "X[\"x9\"] = X[\"x4\"]**2\n",
    "X[\"x10\"] = X[\"x5\"]**2\n",
    "\n",
    "# Exponential features\n",
    "X[\"x11\"] = np.exp(X[\"x1\"])\n",
    "X[\"x12\"] = np.exp(X[\"x2\"])\n",
    "X[\"x13\"] = np.exp(X[\"x3\"])\n",
    "X[\"x14\"] = np.exp(X[\"x4\"])\n",
    "X[\"x15\"] = np.exp(X[\"x5\"])\n",
    "\n",
    "# Cosine features\n",
    "X[\"x16\"] = np.cos(X[\"x1\"])\n",
    "X[\"x17\"] = np.cos(X[\"x2\"])\n",
    "X[\"x18\"] = np.cos(X[\"x3\"])\n",
    "X[\"x19\"] = np.cos(X[\"x4\"])\n",
    "X[\"x20\"] = np.cos(X[\"x5\"])\n",
    "\n",
    "# Constant\n",
    "X[\"x21\"] = 1\n",
    "\n",
    "# Check new features\n",
    "print(\"NEW FEATURES\")\n",
    "print(X.head())"
   ]
  },
  {
   "cell_type": "code",
   "execution_count": 177,
   "metadata": {},
   "outputs": [],
   "source": [
    "## By hand estimations\n",
    "# Split into train and test\n",
    "#X_train, X_test, y_train, y_test = train_test_split(X, y, train_size=0.8)\n",
    "#print(X_train.head())\n",
    "#\n",
    "# Train the linear regression model\n",
    "#model = LinearRegression()\n",
    "#model = Ridge(alpha=0.5)\n",
    "#model = Lasso(alpha=0.01, fit_intercept=False)\n",
    "#model.fit(X_train, y_train)\n",
    "#\n",
    "# Print coefficients\n",
    "#print(model.coef_)\n",
    "#\n",
    "# Make predictions for the test dataset\n",
    "#y_test_prediction = model.predict(X_test)\n",
    "#print(\"RMSE: %.2e\" %(np.sqrt(metrics.mean_squared_error(y_test, y_test_prediction))))"
   ]
  },
  {
   "cell_type": "code",
   "execution_count": 184,
   "metadata": {},
   "outputs": [
    {
     "data": {
      "image/png": "[encoded data removed]",
      "text/plain": [
       "<Figure size 576x432 with 1 Axes>"
      ]
     },
     "metadata": {
      "needs_background": "light"
     },
     "output_type": "display_data"
    }
   ],
   "source": [
    "## Optimize Lasso regression parameter with a Grid Search\n",
    "#  Re-used sample code at https://scikit-learn.org/stable/auto_examples/exercises/plot_cv_diabetes.html\n",
    "lasso = Lasso(max_iter=10000)\n",
    "alphas = np.logspace(-4, -0.5, 30)\n",
    "\n",
    "tuned_parameters = [{'alpha': alphas}]\n",
    "n_folds = 7   # 100 events per fold\n",
    "\n",
    "clf = GridSearchCV(lasso, tuned_parameters, cv=n_folds, refit=True)\n",
    "clf.fit(X, y)\n",
    "scores = clf.cv_results_['mean_test_score']\n",
    "scores_std = clf.cv_results_['std_test_score']\n",
    "\n",
    "# Make figure\n",
    "plt.figure().set_size_inches(8, 6)\n",
    "plt.semilogx(alphas, scores)\n",
    "\n",
    "# plot error lines showing +/- std. errors of the scores\n",
    "std_error = scores_std / np.sqrt(n_folds)\n",
    "\n",
    "plt.semilogx(alphas, scores + std_error, 'b--')\n",
    "plt.semilogx(alphas, scores - std_error, 'b--')\n",
    "\n",
    "# alpha=0.2 controls the translucency of the fill color\n",
    "plt.fill_between(alphas, scores + std_error, scores - std_error, alpha=0.2)\n",
    "\n",
    "plt.ylabel('CV score +/- std error')\n",
    "plt.xlabel('alpha')\n",
    "plt.axhline(np.max(scores), linestyle='--', color='.5')\n",
    "plt.xlim([alphas[0], alphas[-1]])\n",
    "plt.savefig(\"alpha_grid_search.pdf\")"
   ]
  },
  {
   "cell_type": "code",
   "execution_count": 179,
   "metadata": {},
   "outputs": [
    {
     "name": "stdout",
     "output_type": "stream",
     "text": [
      "Best regression parameter: 4.89e-03\n"
     ]
    }
   ],
   "source": [
    "## Best regression parameter alpha\n",
    "alpha_best = alphas[np.argmax(scores)]\n",
    "print(\"Best regression parameter: %.2e\" %alpha_best)"
   ]
  },
  {
   "cell_type": "code",
   "execution_count": 180,
   "metadata": {},
   "outputs": [
    {
     "name": "stdout",
     "output_type": "stream",
     "text": [
      "[ 0.         -0.          0.          0.          0.         -0.\n",
      "  0.          0.         -0.          0.         -0.0746826  -1.93682457\n",
      " -3.12487435 -0.11728164 -0.84355106 -0.01993135 -0.52849018 -0.\n",
      " -0.         -0.         -0.        ]\n"
     ]
    },
    {
     "name": "stderr",
     "output_type": "stream",
     "text": [
      "/opt/anaconda3/lib/python3.8/site-packages/sklearn/linear_model/_coordinate_descent.py:529: ConvergenceWarning: Objective did not converge. You might want to increase the number of iterations. Duality gap: 9.563001293406614, tolerance: 3.0566464880308284\n",
      "  model = cd_fast.enet_coordinate_descent(\n"
     ]
    }
   ],
   "source": [
    "## Train Lasso model for the best regression parameter on the whole dataset\n",
    "model = Lasso(alpha=alpha_best, fit_intercept=False)\n",
    "model.fit(X, y)\n",
    "# Print coefficients\n",
    "print(model.coef_)"
   ]
  },
  {
   "cell_type": "code",
   "execution_count": 181,
   "metadata": {},
   "outputs": [],
   "source": [
    "## Make file to submit\n",
    "file = open(\"to_submit.txt\", \"w\") \n",
    "for coef in model.coef_:\n",
    "    file.write(str(coef)+\"\\n\")\n",
    "file.close()"
   ]
  },
  {
   "cell_type": "code",
   "execution_count": 182,
   "metadata": {},
   "outputs": [
    {
     "name": "stdout",
     "output_type": "stream",
     "text": [
      "0.0\r\n",
      "-0.0\r\n",
      "0.0\r\n",
      "0.0\r\n",
      "0.0\r\n",
      "-0.0\r\n",
      "0.0\r\n",
      "0.0\r\n",
      "-0.0\r\n",
      "0.0\r\n",
      "-0.07468260155993518\r\n",
      "-1.936824573254832\r\n",
      "-3.1248743538442834\r\n",
      "-0.11728163869627166\r\n",
      "-0.8435510559367696\r\n",
      "-0.019931354353750753\r\n",
      "-0.5284901751669261\r\n",
      "-0.0\r\n",
      "-0.0\r\n",
      "-0.0\r\n",
      "-0.0\r\n"
     ]
    }
   ],
   "source": [
    "! cat to_submit.txt"
   ]
  },
  {
   "cell_type": "code",
   "execution_count": null,
   "metadata": {},
   "outputs": [],
   "source": []
  }
 ],
 "metadata": {
  "kernelspec": {
   "display_name": "Python 3",
   "language": "python",
   "name": "python3"
  },
  "language_info": {
   "codemirror_mode": {
    "name": "ipython",
    "version": 3
   },
   "file_extension": ".py",
   "mimetype": "text/x-python",
   "name": "python",
   "nbconvert_exporter": "python",
   "pygments_lexer": "ipython3",
   "version": "3.8.3"
  }
 },
 "nbformat": 4,
 "nbformat_minor": 4
}
