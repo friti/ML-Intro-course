{
 "cells": [
  {
   "cell_type": "code",
   "execution_count": 1,
   "metadata": {},
   "outputs": [],
   "source": [
    "import pandas as pd\n",
    "import numpy as np\n",
    "\n",
    "from sklearn.model_selection import KFold\n",
    "from sklearn.linear_model import Ridge\n",
    "from sklearn import metrics"
   ]
  },
  {
   "cell_type": "code",
   "execution_count": 2,
   "metadata": {},
   "outputs": [
    {
     "name": "stdout",
     "output_type": "stream",
     "text": [
      "\n",
      "===== CHECK DATA =====\n",
      "TRAIN DATA\n",
      "      y        x1   x2     x3   x4     x5     x6     x7      x8    x9    x10  \\\n",
      "0  22.6   0.06724  0.0   3.24  0.0  0.460  6.333   17.2  5.2146   4.0  430.0   \n",
      "1  50.0   9.23230  0.0  18.10  0.0  0.631  6.216  100.0  1.1691  24.0  666.0   \n",
      "2  23.0   0.11425  0.0  13.89  1.0  0.550  6.373   92.4  3.3633   5.0  276.0   \n",
      "3   8.3  24.80170  0.0  18.10  0.0  0.693  5.349   96.0  1.7028  24.0  666.0   \n",
      "4  21.2   0.05646  0.0  12.83  0.0  0.437  6.232   53.7  5.0141   5.0  398.0   \n",
      "\n",
      "    x11     x12    x13  \n",
      "0  16.9  375.21   7.34  \n",
      "1  20.2  366.15   9.53  \n",
      "2  16.4  393.74  10.50  \n",
      "3  20.2  396.90  19.77  \n",
      "4  18.7  386.40  12.34  \n",
      "\n",
      "\n",
      "FEATURES\n",
      "         x1   x2     x3   x4     x5     x6     x7      x8    x9    x10   x11  \\\n",
      "0   0.06724  0.0   3.24  0.0  0.460  6.333   17.2  5.2146   4.0  430.0  16.9   \n",
      "1   9.23230  0.0  18.10  0.0  0.631  6.216  100.0  1.1691  24.0  666.0  20.2   \n",
      "2   0.11425  0.0  13.89  1.0  0.550  6.373   92.4  3.3633   5.0  276.0  16.4   \n",
      "3  24.80170  0.0  18.10  0.0  0.693  5.349   96.0  1.7028  24.0  666.0  20.2   \n",
      "4   0.05646  0.0  12.83  0.0  0.437  6.232   53.7  5.0141   5.0  398.0  18.7   \n",
      "\n",
      "      x12    x13  \n",
      "0  375.21   7.34  \n",
      "1  366.15   9.53  \n",
      "2  393.74  10.50  \n",
      "3  396.90  19.77  \n",
      "4  386.40  12.34  \n",
      "\n",
      "\n",
      "TARGET\n",
      "0    22.6\n",
      "1    50.0\n",
      "2    23.0\n",
      "3     8.3\n",
      "4    21.2\n",
      "Name: y, dtype: float64\n"
     ]
    }
   ],
   "source": [
    "# Read training data\n",
    "train_data = pd.read_csv('datasets/train.csv', delimiter=',')\n",
    "X = train_data.iloc[:,1:]\n",
    "y = train_data.iloc[:,0]\n",
    "X_cols = X.columns\n",
    "\n",
    "# Check data\n",
    "print(\"\\n===== CHECK DATA =====\")\n",
    "print(\"TRAIN DATA\")\n",
    "print(train_data.head())\n",
    "print(\"\\n\")\n",
    "print(\"FEATURES\")\n",
    "print(X.head())\n",
    "print(\"\\n\")\n",
    "print(\"TARGET\")\n",
    "print(y.head())\n",
    "\n",
    "# Convert to numpy arrays to use indices from KFold later on\n",
    "X = X.to_numpy()\n",
    "y = y.to_numpy()"
   ]
  },
  {
   "cell_type": "code",
   "execution_count": 3,
   "metadata": {},
   "outputs": [],
   "source": [
    "## Split in K-folds\n",
    "#X_train, X_validation, y_train, y_validation = train_test_split(Xolds, y, train_size=0.10)\n",
    "kf = KFold(n_splits=10)"
   ]
  },
  {
   "cell_type": "code",
   "execution_count": 4,
   "metadata": {},
   "outputs": [],
   "source": [
    "# Regularization parameters\n",
    "reg_params = [0.1, 1, 10, 100, 200]\n",
    "\n",
    "# Dictionary to store RMSE for each regularization parameter\n",
    "RMSE = {}\n",
    "\n",
    "# Loop over all regularisation parameters to test\n",
    "for reg_param in reg_params:\n",
    "    \n",
    "    # Initialize dictionary to store RMSE for each fold as well as avg and std\n",
    "    RMSE[reg_param] = {\"list\": [], \"avg\": 0., \"std\": 0.}\n",
    "\n",
    "    # We have to split each time! Cannot loop more than once over kf.split...\n",
    "    kf_indices = kf.split(X)\n",
    "    for train_indices, validation_indices in kf_indices:\n",
    "        # Initialize a Ridge regression model\n",
    "        ridge_regressor = Ridge(alpha=reg_param)\n",
    "        # Fit it on the training part of the fold\n",
    "        ridge_regressor.fit(X[train_indices], y[train_indices])\n",
    "        # Evaluate on the rest of the dataset\n",
    "        y_validation_predictions = ridge_regressor.predict(X[validation_indices])\n",
    "        # Calculate and store RMSE\n",
    "        RMSE[reg_param][\"list\"].append(np.sqrt(metrics.mean_squared_error(y[validation_indices], y_validation_predictions)))\n",
    "\n",
    "    # Compute average RMSE and std\n",
    "    RMSE[reg_param][\"avg\"] = np.mean(RMSE[reg_param][\"list\"])\n",
    "    RMSE[reg_param][\"std\"] = np.std(RMSE[reg_param][\"list\"], ddof=1)"
   ]
  },
  {
   "cell_type": "code",
   "execution_count": 5,
   "metadata": {},
   "outputs": [
    {
     "name": "stdout",
     "output_type": "stream",
     "text": [
      "lambda = 1.0e-01\n",
      "\tavg = 5.502   std = 1.340\n",
      "lambda = 1.0e+00\n",
      "\tavg = 5.500   std = 1.401\n",
      "lambda = 1.0e+01\n",
      "\tavg = 5.484   std = 1.522\n",
      "lambda = 1.0e+02\n",
      "\tavg = 5.637   std = 1.792\n",
      "lambda = 2.0e+02\n",
      "\tavg = 5.721   std = 1.875\n"
     ]
    }
   ],
   "source": [
    "file = open(\"to_submit.txt\", \"w\") \n",
    "\n",
    "for param in RMSE.keys():\n",
    "    print(\"lambda = %.1e\" %param)\n",
    "    print(\"\\tavg = %.3f   std = %.3f\" %(RMSE[param][\"avg\"], RMSE[param][\"std\"]))\n",
    "    file.write(str(RMSE[param][\"avg\"])+\"\\n\")\n",
    "    \n",
    "file.close()"
   ]
  },
  {
   "cell_type": "code",
   "execution_count": 6,
   "metadata": {},
   "outputs": [
    {
     "name": "stdout",
     "output_type": "stream",
     "text": [
      "5.501809445057857\r\n",
      "5.499838741278097\r\n",
      "5.483631486072287\r\n",
      "5.636642135414034\r\n",
      "5.721233719861127\r\n"
     ]
    }
   ],
   "source": [
    "!cat to_submit.txt"
   ]
  },
  {
   "cell_type": "code",
   "execution_count": null,
   "metadata": {},
   "outputs": [],
   "source": []
  }
 ],
 "metadata": {
  "kernelspec": {
   "display_name": "Python 3",
   "language": "python",
   "name": "python3"
  },
  "language_info": {
   "codemirror_mode": {
    "name": "ipython",
    "version": 3
   },
   "file_extension": ".py",
   "mimetype": "text/x-python",
   "name": "python",
   "nbconvert_exporter": "python",
   "pygments_lexer": "ipython3",
   "version": "3.8.3"
  }
 },
 "nbformat": 4,
 "nbformat_minor": 4
}
