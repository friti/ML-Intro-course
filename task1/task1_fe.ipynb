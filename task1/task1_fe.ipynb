{
 "cells": [
  {
   "cell_type": "code",
   "execution_count": 34,
   "id": "minus-honor",
   "metadata": {},
   "outputs": [],
   "source": [
    "import pandas as pd\n",
    "import numpy as np\n",
    "\n",
    "from sklearn import preprocessing\n",
    "from sklearn.linear_model import RidgeCV\n",
    "from sklearn.model_selection import KFold\n",
    "from sklearn.linear_model import Ridge\n",
    "\n",
    "from sklearn import metrics\n",
    "\n"
   ]
  },
  {
   "cell_type": "code",
   "execution_count": 35,
   "id": "functioning-enlargement",
   "metadata": {},
   "outputs": [],
   "source": [
    "##### Loading ######\n",
    "dfTrain = pd.read_csv('datasets/train.csv', delimiter=',')\n",
    "X = dfTrain.iloc[:,1:]\n",
    "Y = dfTrain.iloc[:,1]\n",
    "#print(X,Y)"
   ]
  },
  {
   "cell_type": "code",
   "execution_count": 42,
   "id": "cutting-albert",
   "metadata": {},
   "outputs": [],
   "source": [
    "# I need to do also the RMSE computation, I don't know how with this\n",
    "#clf = RidgeCV(alphas=[0.1,1,10,100,200],cv=10, scoring = 'neg_root_mean_squared_error').fit(X, Y)"
   ]
  },
  {
   "cell_type": "code",
   "execution_count": 37,
   "id": "digital-sucking",
   "metadata": {},
   "outputs": [],
   "source": [
    "## Split in K-folds\n",
    "kf = KFold(n_splits=10, shuffle = True)"
   ]
  },
  {
   "cell_type": "code",
   "execution_count": 38,
   "id": "romantic-highway",
   "metadata": {},
   "outputs": [],
   "source": [
    "# Convert to numpy arrays to use indices from KFold later on\n",
    "X = X.to_numpy()\n",
    "Y = Y.to_numpy()"
   ]
  },
  {
   "cell_type": "code",
   "execution_count": 40,
   "id": "universal-cruise",
   "metadata": {},
   "outputs": [],
   "source": [
    "# Regularization parameters\n",
    "reg_params = [0.1, 1, 10, 100, 200]\n",
    "\n",
    "# Dictionary to store RMSE for each regularization parameter\n",
    "RMSE = {}\n",
    "\n",
    "# Loop over all regularisation parameters to test\n",
    "for reg_param in reg_params:\n",
    "    \n",
    "    # Initialize dictionary to store RMSE for each fold as well as avg and std\n",
    "    RMSE[reg_param] = {\"list\": [], \"avg\": 0., \"std\": 0.}\n",
    "\n",
    "    # We have to split each time! Cannot loop more than once over kf.split...\n",
    "    kf_indices = kf.split(X)\n",
    "    for train_indices, validation_indices in kf_indices:\n",
    "        #print(validation_indices)\n",
    "        # Initialize a Ridge regression model\n",
    "        ridge_regressor = Ridge(alpha=reg_param)\n",
    "        # Fit it on the training part of the fold\n",
    "        ridge_regressor.fit(X[train_indices], Y[train_indices])\n",
    "        # Evaluate on the rest of the dataset\n",
    "        y_validation_predictions = ridge_regressor.predict(X[validation_indices])\n",
    "        # Calculate and store RMSE\n",
    "        RMSE[reg_param][\"list\"].append(np.sqrt(metrics.mean_squared_error(Y[validation_indices], y_validation_predictions)))\n",
    "\n",
    "    # Compute average RMSE and std\n",
    "    RMSE[reg_param][\"avg\"] = np.mean(RMSE[reg_param][\"list\"])\n",
    "    RMSE[reg_param][\"std\"] = np.std(RMSE[reg_param][\"list\"], ddof=1)\n",
    "    #print(np.mean(RMSE[reg_param][\"list\"]),RMSE[reg_param][\"avg\"])"
   ]
  },
  {
   "cell_type": "code",
   "execution_count": 41,
   "id": "rural-record",
   "metadata": {},
   "outputs": [
    {
     "name": "stdout",
     "output_type": "stream",
     "text": [
      "lambda = 1.0e-01\n",
      "\tavg = 0.000   std = 0.000\n",
      "lambda = 1.0e+00\n",
      "\tavg = 0.001   std = 0.002\n",
      "lambda = 1.0e+01\n",
      "\tavg = 0.021   std = 0.042\n",
      "lambda = 1.0e+02\n",
      "\tavg = 0.128   std = 0.153\n",
      "lambda = 2.0e+02\n",
      "\tavg = 0.247   std = 0.294\n"
     ]
    }
   ],
   "source": [
    "file = open(\"to_submit.txt\", \"w\") \n",
    "\n",
    "for param in RMSE.keys():\n",
    "    print(\"lambda = %.1e\" %param)\n",
    "    print(\"\\tavg = %.3f   std = %.3f\" %(RMSE[param][\"avg\"], RMSE[param][\"std\"]))\n",
    "    file.write(str(RMSE[param][\"avg\"])+\"\\n\")\n",
    "    \n",
    "file.close()"
   ]
  },
  {
   "cell_type": "code",
   "execution_count": null,
   "id": "damaged-death",
   "metadata": {},
   "outputs": [],
   "source": []
  }
 ],
 "metadata": {
  "kernelspec": {
   "display_name": "Python 3",
   "language": "python",
   "name": "python3"
  },
  "language_info": {
   "codemirror_mode": {
    "name": "ipython",
    "version": 3
   },
   "file_extension": ".py",
   "mimetype": "text/x-python",
   "name": "python",
   "nbconvert_exporter": "python",
   "pygments_lexer": "ipython3",
   "version": "3.9.2"
  }
 },
 "nbformat": 4,
 "nbformat_minor": 5
}
