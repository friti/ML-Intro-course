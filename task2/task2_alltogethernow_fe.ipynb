{
 "cells": [
  {
   "cell_type": "code",
   "execution_count": 1,
   "id": "annoying-strand",
   "metadata": {},
   "outputs": [],
   "source": [
    "import pandas as pd"
   ]
  },
  {
   "cell_type": "code",
   "execution_count": 2,
   "id": "proof-choice",
   "metadata": {},
   "outputs": [],
   "source": [
    "#open all 3 subtasks outputs files\n",
    "sub1 = pd.read_csv('subtask1_t2.csv', delimiter=',')\n",
    "sub2 = pd.read_csv('subtask2_t2.csv', delimiter=',')\n",
    "sub3_tmp = pd.read_csv('subtask3.csv', delimiter=',')"
   ]
  },
  {
   "cell_type": "code",
   "execution_count": 3,
   "id": "direct-chest",
   "metadata": {},
   "outputs": [],
   "source": [
    "#open sample to check\n",
    "sample = pd.read_csv('dataset/sample.csv', delimiter=',')"
   ]
  },
  {
   "cell_type": "code",
   "execution_count": 4,
   "id": "micro-warrant",
   "metadata": {},
   "outputs": [],
   "source": [
    "sub3_tmp=sub3_tmp.set_index('pid')\n",
    "sub3_tmp.reindex(sample['pid'].to_numpy())\n",
    "sub3 = pd.DataFrame()\n",
    "sub3['pid'] = sample['pid']\n",
    "for col in sub3_tmp.columns:\n",
    "    sub3[col] = sub3_tmp[col]"
   ]
  },
  {
   "cell_type": "code",
   "execution_count": 5,
   "id": "speaking-topic",
   "metadata": {},
   "outputs": [],
   "source": [
    "# concatenate the subtasks files\n",
    "result = pd.concat([sub1, sub2.iloc[:,1:], sub3.iloc[:,2:]], axis=1)\n",
    "#result = pd.concat([sub1, sub2], axis=1)"
   ]
  },
  {
   "cell_type": "code",
   "execution_count": 6,
   "id": "drawn-holocaust",
   "metadata": {},
   "outputs": [
    {
     "data": {
      "text/plain": [
       "Index(['pid', 'LABEL_BaseExcess', 'LABEL_Fibrinogen', 'LABEL_AST',\n",
       "       'LABEL_Alkalinephos', 'LABEL_Bilirubin_total', 'LABEL_Lactate',\n",
       "       'LABEL_TroponinI', 'LABEL_SaO2', 'LABEL_Bilirubin_direct',\n",
       "       'LABEL_EtCO2', 'LABEL_Sepsis', 'LABEL_RRate', 'LABEL_ABPm',\n",
       "       'LABEL_SpO2', 'LABEL_Heartrate'],\n",
       "      dtype='object')"
      ]
     },
     "execution_count": 6,
     "metadata": {},
     "output_type": "execute_result"
    }
   ],
   "source": [
    "result.columns"
   ]
  },
  {
   "cell_type": "code",
   "execution_count": 7,
   "id": "temporal-skating",
   "metadata": {},
   "outputs": [
    {
     "data": {
      "text/plain": [
       "Index(['pid', 'LABEL_BaseExcess', 'LABEL_Fibrinogen', 'LABEL_AST',\n",
       "       'LABEL_Alkalinephos', 'LABEL_Bilirubin_total', 'LABEL_Lactate',\n",
       "       'LABEL_TroponinI', 'LABEL_SaO2', 'LABEL_Bilirubin_direct',\n",
       "       'LABEL_EtCO2', 'LABEL_Sepsis', 'LABEL_RRate', 'LABEL_ABPm',\n",
       "       'LABEL_SpO2', 'LABEL_Heartrate'],\n",
       "      dtype='object')"
      ]
     },
     "execution_count": 7,
     "metadata": {},
     "output_type": "execute_result"
    }
   ],
   "source": [
    "sample.columns"
   ]
  },
  {
   "cell_type": "code",
   "execution_count": 8,
   "id": "literary-characteristic",
   "metadata": {},
   "outputs": [],
   "source": [
    "filename = 'submit_1'\n",
    "compression_options = dict(method='zip', archive_name=f'{filename}.csv')\n",
    "result.to_csv(f'{filename}.zip', compression=compression_options, index=False, float_format='%.3f')"
   ]
  },
  {
   "cell_type": "code",
   "execution_count": 25,
   "id": "universal-surge",
   "metadata": {},
   "outputs": [
    {
     "name": "stdout",
     "output_type": "stream",
     "text": [
      "Index(['pid', 'LABEL_BaseExcess', 'LABEL_Fibrinogen', 'LABEL_AST',\n",
      "       'LABEL_Alkalinephos', 'LABEL_Bilirubin_total', 'LABEL_Lactate',\n",
      "       'LABEL_TroponinI', 'LABEL_SaO2', 'LABEL_Bilirubin_direct',\n",
      "       'LABEL_EtCO2', 'LABEL_Sepsis', 'LABEL_RRate', 'LABEL_ABPm',\n",
      "       'LABEL_SpO2', 'LABEL_Heartrate'],\n",
      "      dtype='object')\n"
     ]
    }
   ],
   "source": [
    "print(sample.columns)"
   ]
  },
  {
   "cell_type": "code",
   "execution_count": 26,
   "id": "adjusted-berkeley",
   "metadata": {},
   "outputs": [
    {
     "name": "stdout",
     "output_type": "stream",
     "text": [
      "Index(['pid', 'LABEL_BaseExcess', 'LABEL_Fibrinogen', 'LABEL_AST',\n",
      "       'LABEL_Alkalinephos', 'LABEL_Bilirubin_total', 'LABEL_Lactate',\n",
      "       'LABEL_TroponinI', 'LABEL_SaO2', 'LABEL_Bilirubin_direct',\n",
      "       'LABEL_EtCO2', 'pid', 'LABEL_Sepsis', 'Unnamed: 0', 'pid',\n",
      "       'LABEL_RRate', 'LABEL_ABPm', 'LABEL_SpO2', 'LABEL_Heartrate'],\n",
      "      dtype='object')\n"
     ]
    }
   ],
   "source": [
    "print(result.columns)"
   ]
  },
  {
   "cell_type": "code",
   "execution_count": null,
   "id": "union-accreditation",
   "metadata": {},
   "outputs": [],
   "source": []
  }
 ],
 "metadata": {
  "kernelspec": {
   "display_name": "Python 3",
   "language": "python",
   "name": "python3"
  },
  "language_info": {
   "codemirror_mode": {
    "name": "ipython",
    "version": 3
   },
   "file_extension": ".py",
   "mimetype": "text/x-python",
   "name": "python",
   "nbconvert_exporter": "python",
   "pygments_lexer": "ipython3",
   "version": "3.9.2"
  }
 },
 "nbformat": 4,
 "nbformat_minor": 5
}
