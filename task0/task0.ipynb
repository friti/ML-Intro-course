{
 "cells": [
  {
   "cell_type": "code",
   "execution_count": 2,
   "metadata": {},
   "outputs": [],
   "source": [
    "import pandas as pd\n",
    "import numpy as np\n",
    "\n",
    "from sklearn import preprocessing\n",
    "from sklearn.linear_model import LinearRegression\n",
    "from sklearn.model_selection import train_test_split\n",
    "from sklearn import metrics"
   ]
  },
  {
   "cell_type": "code",
   "execution_count": 2,
   "metadata": {},
   "outputs": [],
   "source": [
    "dfTrain = pd.read_csv('datasets/train.csv', delimiter=',')\n",
    "X = dfTrain.iloc[:,2:]\n",
    "y = dfTrain.iloc[:,1]"
   ]
  },
  {
   "cell_type": "code",
   "execution_count": 1,
   "metadata": {},
   "outputs": [
    {
     "ename": "NameError",
     "evalue": "name 'X' is not defined",
     "output_type": "error",
     "traceback": [
      "\u001b[0;31m---------------------------------------------------------------------------\u001b[0m",
      "\u001b[0;31mNameError\u001b[0m                                 Traceback (most recent call last)",
      "\u001b[0;32m<ipython-input-1-1e115016aa34>\u001b[0m in \u001b[0;36m<module>\u001b[0;34m\u001b[0m\n\u001b[0;32m----> 1\u001b[0;31m \u001b[0mprint\u001b[0m\u001b[0;34m(\u001b[0m\u001b[0mX\u001b[0m\u001b[0;34m.\u001b[0m\u001b[0mhead\u001b[0m\u001b[0;34m(\u001b[0m\u001b[0;34m)\u001b[0m\u001b[0;34m)\u001b[0m\u001b[0;34m\u001b[0m\u001b[0;34m\u001b[0m\u001b[0m\n\u001b[0m",
      "\u001b[0;31mNameError\u001b[0m: name 'X' is not defined"
     ]
    }
   ],
   "source": [
    "X.head()"
   ]
  },
  {
   "cell_type": "code",
   "execution_count": 4,
   "metadata": {},
   "outputs": [
    {
     "data": {
      "text/plain": [
       "0    738.023171\n",
       "1    400.646015\n",
       "2    189.900156\n",
       "3    -78.399449\n",
       "4   -547.373531\n",
       "Name: y, dtype: float64"
      ]
     },
     "execution_count": 4,
     "metadata": {},
     "output_type": "execute_result"
    }
   ],
   "source": [
    "y.head()"
   ]
  },
  {
   "cell_type": "code",
   "execution_count": 5,
   "metadata": {},
   "outputs": [
    {
     "data": {
      "text/html": [
       "<div>\n",
       "<style scoped>\n",
       "    .dataframe tbody tr th:only-of-type {\n",
       "        vertical-align: middle;\n",
       "    }\n",
       "\n",
       "    .dataframe tbody tr th {\n",
       "        vertical-align: top;\n",
       "    }\n",
       "\n",
       "    .dataframe thead th {\n",
       "        text-align: right;\n",
       "    }\n",
       "</style>\n",
       "<table border=\"1\" class=\"dataframe\">\n",
       "  <thead>\n",
       "    <tr style=\"text-align: right;\">\n",
       "      <th></th>\n",
       "      <th>x1</th>\n",
       "      <th>x2</th>\n",
       "      <th>x3</th>\n",
       "      <th>x4</th>\n",
       "      <th>x5</th>\n",
       "      <th>x6</th>\n",
       "      <th>x7</th>\n",
       "      <th>x8</th>\n",
       "      <th>x9</th>\n",
       "      <th>x10</th>\n",
       "    </tr>\n",
       "  </thead>\n",
       "  <tbody>\n",
       "    <tr>\n",
       "      <th>9752</th>\n",
       "      <td>-349.732093</td>\n",
       "      <td>925.671295</td>\n",
       "      <td>-628.417129</td>\n",
       "      <td>-1841.164957</td>\n",
       "      <td>227.784404</td>\n",
       "      <td>-404.656702</td>\n",
       "      <td>-288.816991</td>\n",
       "      <td>773.672369</td>\n",
       "      <td>787.648004</td>\n",
       "      <td>913.016632</td>\n",
       "    </tr>\n",
       "    <tr>\n",
       "      <th>734</th>\n",
       "      <td>582.334958</td>\n",
       "      <td>844.498557</td>\n",
       "      <td>-384.941375</td>\n",
       "      <td>-1355.082944</td>\n",
       "      <td>630.687517</td>\n",
       "      <td>317.111212</td>\n",
       "      <td>9.540022</td>\n",
       "      <td>856.830298</td>\n",
       "      <td>1801.985774</td>\n",
       "      <td>-995.239426</td>\n",
       "    </tr>\n",
       "    <tr>\n",
       "      <th>6441</th>\n",
       "      <td>-236.794850</td>\n",
       "      <td>400.231563</td>\n",
       "      <td>1734.578062</td>\n",
       "      <td>-1675.305086</td>\n",
       "      <td>961.633586</td>\n",
       "      <td>-597.423803</td>\n",
       "      <td>1106.423281</td>\n",
       "      <td>1833.997785</td>\n",
       "      <td>-287.345326</td>\n",
       "      <td>-271.779699</td>\n",
       "    </tr>\n",
       "    <tr>\n",
       "      <th>2626</th>\n",
       "      <td>-20.547249</td>\n",
       "      <td>-1226.933036</td>\n",
       "      <td>88.311612</td>\n",
       "      <td>-1089.371768</td>\n",
       "      <td>-637.681962</td>\n",
       "      <td>556.130423</td>\n",
       "      <td>83.256721</td>\n",
       "      <td>1672.890909</td>\n",
       "      <td>-1243.658269</td>\n",
       "      <td>172.185021</td>\n",
       "    </tr>\n",
       "    <tr>\n",
       "      <th>418</th>\n",
       "      <td>-780.819638</td>\n",
       "      <td>724.644687</td>\n",
       "      <td>663.369167</td>\n",
       "      <td>-1037.881306</td>\n",
       "      <td>346.979020</td>\n",
       "      <td>252.030989</td>\n",
       "      <td>1750.918842</td>\n",
       "      <td>-418.401160</td>\n",
       "      <td>-519.857268</td>\n",
       "      <td>-923.442968</td>\n",
       "    </tr>\n",
       "  </tbody>\n",
       "</table>\n",
       "</div>"
      ],
      "text/plain": [
       "              x1           x2           x3           x4          x5  \\\n",
       "9752 -349.732093   925.671295  -628.417129 -1841.164957  227.784404   \n",
       "734   582.334958   844.498557  -384.941375 -1355.082944  630.687517   \n",
       "6441 -236.794850   400.231563  1734.578062 -1675.305086  961.633586   \n",
       "2626  -20.547249 -1226.933036    88.311612 -1089.371768 -637.681962   \n",
       "418  -780.819638   724.644687   663.369167 -1037.881306  346.979020   \n",
       "\n",
       "              x6           x7           x8           x9         x10  \n",
       "9752 -404.656702  -288.816991   773.672369   787.648004  913.016632  \n",
       "734   317.111212     9.540022   856.830298  1801.985774 -995.239426  \n",
       "6441 -597.423803  1106.423281  1833.997785  -287.345326 -271.779699  \n",
       "2626  556.130423    83.256721  1672.890909 -1243.658269  172.185021  \n",
       "418   252.030989  1750.918842  -418.401160  -519.857268 -923.442968  "
      ]
     },
     "execution_count": 5,
     "metadata": {},
     "output_type": "execute_result"
    }
   ],
   "source": [
    "XTrain, XTest, yTrain, yTest = train_test_split(X, y, train_size=0.8)\n",
    "XTrain.head()"
   ]
  },
  {
   "cell_type": "code",
   "execution_count": 6,
   "metadata": {},
   "outputs": [
    {
     "data": {
      "text/plain": [
       "LinearRegression()"
      ]
     },
     "execution_count": 6,
     "metadata": {},
     "output_type": "execute_result"
    }
   ],
   "source": [
    "model = LinearRegression()\n",
    "model.fit(XTrain, yTrain)"
   ]
  },
  {
   "cell_type": "code",
   "execution_count": 7,
   "metadata": {},
   "outputs": [
    {
     "name": "stdout",
     "output_type": "stream",
     "text": [
      "RMSE: 3.84e-13\n"
     ]
    }
   ],
   "source": [
    "yTestPred = model.predict(XTest)\n",
    "print(\"RMSE: %.2e\" %(np.sqrt(metrics.mean_squared_error(yTest, yTestPred))))"
   ]
  },
  {
   "cell_type": "code",
   "execution_count": 8,
   "metadata": {},
   "outputs": [],
   "source": [
    "dfPred = pd.read_csv('datasets/test.csv', delimiter=',')\n",
    "XPred = dfPred.iloc[:,1:]\n",
    "idCol = dfPred.iloc[:,0].to_numpy()\n",
    "yPred = model.predict(XPred)"
   ]
  },
  {
   "cell_type": "code",
   "execution_count": 9,
   "metadata": {},
   "outputs": [],
   "source": [
    "dfToSubmit = pd.DataFrame(data={\"Id\": idCol, \"y\":yPred})"
   ]
  },
  {
   "cell_type": "code",
   "execution_count": 10,
   "metadata": {},
   "outputs": [
    {
     "data": {
      "text/html": [
       "<div>\n",
       "<style scoped>\n",
       "    .dataframe tbody tr th:only-of-type {\n",
       "        vertical-align: middle;\n",
       "    }\n",
       "\n",
       "    .dataframe tbody tr th {\n",
       "        vertical-align: top;\n",
       "    }\n",
       "\n",
       "    .dataframe thead th {\n",
       "        text-align: right;\n",
       "    }\n",
       "</style>\n",
       "<table border=\"1\" class=\"dataframe\">\n",
       "  <thead>\n",
       "    <tr style=\"text-align: right;\">\n",
       "      <th></th>\n",
       "      <th>Id</th>\n",
       "      <th>y</th>\n",
       "    </tr>\n",
       "  </thead>\n",
       "  <tbody>\n",
       "    <tr>\n",
       "      <th>0</th>\n",
       "      <td>10000</td>\n",
       "      <td>-66.002423</td>\n",
       "    </tr>\n",
       "    <tr>\n",
       "      <th>1</th>\n",
       "      <td>10001</td>\n",
       "      <td>451.406504</td>\n",
       "    </tr>\n",
       "    <tr>\n",
       "      <th>2</th>\n",
       "      <td>10002</td>\n",
       "      <td>-461.676417</td>\n",
       "    </tr>\n",
       "    <tr>\n",
       "      <th>3</th>\n",
       "      <td>10003</td>\n",
       "      <td>40.501209</td>\n",
       "    </tr>\n",
       "    <tr>\n",
       "      <th>4</th>\n",
       "      <td>10004</td>\n",
       "      <td>-126.744722</td>\n",
       "    </tr>\n",
       "    <tr>\n",
       "      <th>...</th>\n",
       "      <td>...</td>\n",
       "      <td>...</td>\n",
       "    </tr>\n",
       "    <tr>\n",
       "      <th>1995</th>\n",
       "      <td>11995</td>\n",
       "      <td>464.715255</td>\n",
       "    </tr>\n",
       "    <tr>\n",
       "      <th>1996</th>\n",
       "      <td>11996</td>\n",
       "      <td>496.485334</td>\n",
       "    </tr>\n",
       "    <tr>\n",
       "      <th>1997</th>\n",
       "      <td>11997</td>\n",
       "      <td>-35.135409</td>\n",
       "    </tr>\n",
       "    <tr>\n",
       "      <th>1998</th>\n",
       "      <td>11998</td>\n",
       "      <td>-131.679185</td>\n",
       "    </tr>\n",
       "    <tr>\n",
       "      <th>1999</th>\n",
       "      <td>11999</td>\n",
       "      <td>417.269155</td>\n",
       "    </tr>\n",
       "  </tbody>\n",
       "</table>\n",
       "<p>2000 rows × 2 columns</p>\n",
       "</div>"
      ],
      "text/plain": [
       "         Id           y\n",
       "0     10000  -66.002423\n",
       "1     10001  451.406504\n",
       "2     10002 -461.676417\n",
       "3     10003   40.501209\n",
       "4     10004 -126.744722\n",
       "...     ...         ...\n",
       "1995  11995  464.715255\n",
       "1996  11996  496.485334\n",
       "1997  11997  -35.135409\n",
       "1998  11998 -131.679185\n",
       "1999  11999  417.269155\n",
       "\n",
       "[2000 rows x 2 columns]"
      ]
     },
     "execution_count": 10,
     "metadata": {},
     "output_type": "execute_result"
    }
   ],
   "source": [
    "dfToSubmit"
   ]
  },
  {
   "cell_type": "code",
   "execution_count": 11,
   "metadata": {},
   "outputs": [],
   "source": [
    "dfToSubmit.to_csv(\"toSubmit.csv\", index=False)"
   ]
  },
  {
   "cell_type": "code",
   "execution_count": null,
   "metadata": {},
   "outputs": [],
   "source": []
  }
 ],
 "metadata": {
  "kernelspec": {
   "display_name": "Python 3",
   "language": "python",
   "name": "python3"
  },
  "language_info": {
   "codemirror_mode": {
    "name": "ipython",
    "version": 3
   },
   "file_extension": ".py",
   "mimetype": "text/x-python",
   "name": "python",
   "nbconvert_exporter": "python",
   "pygments_lexer": "ipython3",
   "version": "3.8.3"
  }
 },
 "nbformat": 4,
 "nbformat_minor": 4
}
