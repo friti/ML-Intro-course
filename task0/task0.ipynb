{
 "cells": [
  {
   "cell_type": "code",
   "execution_count": 2,
   "metadata": {},
   "outputs": [],
   "source": [
    "import pandas as pd\n",
    "import numpy as np\n",
    "\n",
    "from sklearn import preprocessing\n",
    "from sklearn.linear_model import LinearRegression\n",
    "from sklearn.model_selection import train_test_split\n",
    "from sklearn import metrics"
   ]
  },
  {
   "cell_type": "code",
   "execution_count": 2,
   "metadata": {},
   "outputs": [],
   "source": [
    "dfTrain = pd.read_csv('datasets/train.csv', delimiter=',')\n",
    "X = dfTrain.iloc[:,2:]\n",
    "y = dfTrain.iloc[:,1]"
   ]
  },
  {
   "cell_type": "code",
   "execution_count": 3,
   "metadata": {},
   "outputs": [
    {
     "data": {
      "text/html": [
       "<div>\n",
       "<style scoped>\n",
       "    .dataframe tbody tr th:only-of-type {\n",
       "        vertical-align: middle;\n",
       "    }\n",
       "\n",
       "    .dataframe tbody tr th {\n",
       "        vertical-align: top;\n",
       "    }\n",
       "\n",
       "    .dataframe thead th {\n",
       "        text-align: right;\n",
       "    }\n",
       "</style>\n",
       "<table border=\"1\" class=\"dataframe\">\n",
       "  <thead>\n",
       "    <tr style=\"text-align: right;\">\n",
       "      <th></th>\n",
       "      <th>x1</th>\n",
       "      <th>x2</th>\n",
       "      <th>x3</th>\n",
       "      <th>x4</th>\n",
       "      <th>x5</th>\n",
       "      <th>x6</th>\n",
       "      <th>x7</th>\n",
       "      <th>x8</th>\n",
       "      <th>x9</th>\n",
       "      <th>x10</th>\n",
       "    </tr>\n",
       "  </thead>\n",
       "  <tbody>\n",
       "    <tr>\n",
       "      <th>0</th>\n",
       "      <td>1764.052346</td>\n",
       "      <td>400.157208</td>\n",
       "      <td>978.737984</td>\n",
       "      <td>2240.893199</td>\n",
       "      <td>1867.557990</td>\n",
       "      <td>-977.277880</td>\n",
       "      <td>950.088418</td>\n",
       "      <td>-151.357208</td>\n",
       "      <td>-103.218852</td>\n",
       "      <td>410.598502</td>\n",
       "    </tr>\n",
       "    <tr>\n",
       "      <th>1</th>\n",
       "      <td>144.043571</td>\n",
       "      <td>1454.273507</td>\n",
       "      <td>761.037725</td>\n",
       "      <td>121.675016</td>\n",
       "      <td>443.863233</td>\n",
       "      <td>333.674327</td>\n",
       "      <td>1494.079073</td>\n",
       "      <td>-205.158264</td>\n",
       "      <td>313.067702</td>\n",
       "      <td>-854.095739</td>\n",
       "    </tr>\n",
       "    <tr>\n",
       "      <th>2</th>\n",
       "      <td>-2552.989816</td>\n",
       "      <td>653.618595</td>\n",
       "      <td>864.436199</td>\n",
       "      <td>-742.165020</td>\n",
       "      <td>2269.754624</td>\n",
       "      <td>-1454.365675</td>\n",
       "      <td>45.758517</td>\n",
       "      <td>-187.183850</td>\n",
       "      <td>1532.779214</td>\n",
       "      <td>1469.358770</td>\n",
       "    </tr>\n",
       "    <tr>\n",
       "      <th>3</th>\n",
       "      <td>154.947426</td>\n",
       "      <td>378.162520</td>\n",
       "      <td>-887.785748</td>\n",
       "      <td>-1980.796468</td>\n",
       "      <td>-347.912149</td>\n",
       "      <td>156.348969</td>\n",
       "      <td>1230.290681</td>\n",
       "      <td>1202.379849</td>\n",
       "      <td>-387.326817</td>\n",
       "      <td>-302.302751</td>\n",
       "    </tr>\n",
       "    <tr>\n",
       "      <th>4</th>\n",
       "      <td>-1048.552965</td>\n",
       "      <td>-1420.017937</td>\n",
       "      <td>-1706.270191</td>\n",
       "      <td>1950.775395</td>\n",
       "      <td>-509.652182</td>\n",
       "      <td>-438.074302</td>\n",
       "      <td>-1252.795360</td>\n",
       "      <td>777.490356</td>\n",
       "      <td>-1613.897848</td>\n",
       "      <td>-212.740280</td>\n",
       "    </tr>\n",
       "  </tbody>\n",
       "</table>\n",
       "</div>"
      ],
      "text/plain": [
       "            x1           x2           x3           x4           x5  \\\n",
       "0  1764.052346   400.157208   978.737984  2240.893199  1867.557990   \n",
       "1   144.043571  1454.273507   761.037725   121.675016   443.863233   \n",
       "2 -2552.989816   653.618595   864.436199  -742.165020  2269.754624   \n",
       "3   154.947426   378.162520  -887.785748 -1980.796468  -347.912149   \n",
       "4 -1048.552965 -1420.017937 -1706.270191  1950.775395  -509.652182   \n",
       "\n",
       "            x6           x7           x8           x9          x10  \n",
       "0  -977.277880   950.088418  -151.357208  -103.218852   410.598502  \n",
       "1   333.674327  1494.079073  -205.158264   313.067702  -854.095739  \n",
       "2 -1454.365675    45.758517  -187.183850  1532.779214  1469.358770  \n",
       "3   156.348969  1230.290681  1202.379849  -387.326817  -302.302751  \n",
       "4  -438.074302 -1252.795360   777.490356 -1613.897848  -212.740280  "
      ]
     },
     "execution_count": 3,
     "metadata": {},
     "output_type": "execute_result"
    }
   ],
   "source": [
    "X.head()"
   ]
  },
  {
   "cell_type": "code",
   "execution_count": 4,
   "metadata": {},
   "outputs": [
    {
     "data": {
      "text/plain": [
       "0    738.023171\n",
       "1    400.646015\n",
       "2    189.900156\n",
       "3    -78.399449\n",
       "4   -547.373531\n",
       "Name: y, dtype: float64"
      ]
     },
     "execution_count": 4,
     "metadata": {},
     "output_type": "execute_result"
    }
   ],
   "source": [
    "y.head()"
   ]
  },
  {
   "cell_type": "code",
   "execution_count": 5,
   "metadata": {},
   "outputs": [
    {
     "data": {
      "text/html": [
       "<div>\n",
       "<style scoped>\n",
       "    .dataframe tbody tr th:only-of-type {\n",
       "        vertical-align: middle;\n",
       "    }\n",
       "\n",
       "    .dataframe tbody tr th {\n",
       "        vertical-align: top;\n",
       "    }\n",
       "\n",
       "    .dataframe thead th {\n",
       "        text-align: right;\n",
       "    }\n",
       "</style>\n",
       "<table border=\"1\" class=\"dataframe\">\n",
       "  <thead>\n",
       "    <tr style=\"text-align: right;\">\n",
       "      <th></th>\n",
       "      <th>x1</th>\n",
       "      <th>x2</th>\n",
       "      <th>x3</th>\n",
       "      <th>x4</th>\n",
       "      <th>x5</th>\n",
       "      <th>x6</th>\n",
       "      <th>x7</th>\n",
       "      <th>x8</th>\n",
       "      <th>x9</th>\n",
       "      <th>x10</th>\n",
       "    </tr>\n",
       "  </thead>\n",
       "  <tbody>\n",
       "    <tr>\n",
       "      <th>9752</th>\n",
       "      <td>-349.732093</td>\n",
       "      <td>925.671295</td>\n",
       "      <td>-628.417129</td>\n",
       "      <td>-1841.164957</td>\n",
       "      <td>227.784404</td>\n",
       "      <td>-404.656702</td>\n",
       "      <td>-288.816991</td>\n",
       "      <td>773.672369</td>\n",
       "      <td>787.648004</td>\n",
       "      <td>913.016632</td>\n",
       "    </tr>\n",
       "    <tr>\n",
       "      <th>734</th>\n",
       "      <td>582.334958</td>\n",
       "      <td>844.498557</td>\n",
       "      <td>-384.941375</td>\n",
       "      <td>-1355.082944</td>\n",
       "      <td>630.687517</td>\n",
       "      <td>317.111212</td>\n",
       "      <td>9.540022</td>\n",
       "      <td>856.830298</td>\n",
       "      <td>1801.985774</td>\n",
       "      <td>-995.239426</td>\n",
       "    </tr>\n",
       "    <tr>\n",
       "      <th>6441</th>\n",
       "      <td>-236.794850</td>\n",
       "      <td>400.231563</td>\n",
       "      <td>1734.578062</td>\n",
       "      <td>-1675.305086</td>\n",
       "      <td>961.633586</td>\n",
       "      <td>-597.423803</td>\n",
       "      <td>1106.423281</td>\n",
       "      <td>1833.997785</td>\n",
       "      <td>-287.345326</td>\n",
       "      <td>-271.779699</td>\n",
       "    </tr>\n",
       "    <tr>\n",
       "      <th>2626</th>\n",
       "      <td>-20.547249</td>\n",
       "      <td>-1226.933036</td>\n",
       "      <td>88.311612</td>\n",
       "      <td>-1089.371768</td>\n",
       "      <td>-637.681962</td>\n",
       "      <td>556.130423</td>\n",
       "      <td>83.256721</td>\n",
       "      <td>1672.890909</td>\n",
       "      <td>-1243.658269</td>\n",
       "      <td>172.185021</td>\n",
       "    </tr>\n",
       "    <tr>\n",
       "      <th>418</th>\n",
       "      <td>-780.819638</td>\n",
       "      <td>724.644687</td>\n",
       "      <td>663.369167</td>\n",
       "      <td>-1037.881306</td>\n",
       "      <td>346.979020</td>\n",
       "      <td>252.030989</td>\n",
       "      <td>1750.918842</td>\n",
       "      <td>-418.401160</td>\n",
       "      <td>-519.857268</td>\n",
       "      <td>-923.442968</td>\n",
       "    </tr>\n",
       "  </tbody>\n",
       "</table>\n",
       "</div>"
      ],
      "text/plain": [
       "              x1           x2           x3           x4          x5  \\\n",
       "9752 -349.732093   925.671295  -628.417129 -1841.164957  227.784404   \n",
       "734   582.334958   844.498557  -384.941375 -1355.082944  630.687517   \n",
       "6441 -236.794850   400.231563  1734.578062 -1675.305086  961.633586   \n",
       "2626  -20.547249 -1226.933036    88.311612 -1089.371768 -637.681962   \n",
       "418  -780.819638   724.644687   663.369167 -1037.881306  346.979020   \n",
       "\n",
       "              x6           x7           x8           x9         x10  \n",
       "9752 -404.656702  -288.816991   773.672369   787.648004  913.016632  \n",
       "734   317.111212     9.540022   856.830298  1801.985774 -995.239426  \n",
       "6441 -597.423803  1106.423281  1833.997785  -287.345326 -271.779699  \n",
       "2626  556.130423    83.256721  1672.890909 -1243.658269  172.185021  \n",
       "418   252.030989  1750.918842  -418.401160  -519.857268 -923.442968  "
      ]
     },
     "execution_count": 5,
     "metadata": {},
     "output_type": "execute_result"
    }
   ],
   "source": [
    "XTrain, XTest, yTrain, yTest = train_test_split(X, y, train_size=0.8)\n",
    "XTrain.head()"
   ]
  },
  {
   "cell_type": "code",
   "execution_count": 6,
   "metadata": {},
   "outputs": [
    {
     "data": {
      "text/plain": [
       "LinearRegression()"
      ]
     },
     "execution_count": 6,
     "metadata": {},
     "output_type": "execute_result"
    }
   ],
   "source": [
    "model = LinearRegression()\n",
    "model.fit(XTrain, yTrain)"
   ]
  },
  {
   "cell_type": "code",
   "execution_count": 7,
   "metadata": {},
   "outputs": [
    {
     "name": "stdout",
     "output_type": "stream",
     "text": [
      "RMSE: 3.84e-13\n"
     ]
    }
   ],
   "source": [
    "yTestPred = model.predict(XTest)\n",
    "print(\"RMSE: %.2e\" %(np.sqrt(metrics.mean_squared_error(yTest, yTestPred))))"
   ]
  },
  {
   "cell_type": "code",
   "execution_count": 8,
   "metadata": {},
   "outputs": [],
   "source": [
    "dfPred = pd.read_csv('datasets/test.csv', delimiter=',')\n",
    "XPred = dfPred.iloc[:,1:]\n",
    "idCol = dfPred.iloc[:,0].to_numpy()\n",
    "yPred = model.predict(XPred)"
   ]
  },
  {
   "cell_type": "code",
   "execution_count": 9,
   "metadata": {},
   "outputs": [],
   "source": [
    "dfToSubmit = pd.DataFrame(data={\"Id\": idCol, \"y\":yPred})"
   ]
  },
  {
   "cell_type": "code",
   "execution_count": 10,
   "metadata": {},
   "outputs": [
    {
     "data": {
      "text/html": [
       "<div>\n",
       "<style scoped>\n",
       "    .dataframe tbody tr th:only-of-type {\n",
       "        vertical-align: middle;\n",
       "    }\n",
       "\n",
       "    .dataframe tbody tr th {\n",
       "        vertical-align: top;\n",
       "    }\n",
       "\n",
       "    .dataframe thead th {\n",
       "        text-align: right;\n",
       "    }\n",
       "</style>\n",
       "<table border=\"1\" class=\"dataframe\">\n",
       "  <thead>\n",
       "    <tr style=\"text-align: right;\">\n",
       "      <th></th>\n",
       "      <th>Id</th>\n",
       "      <th>y</th>\n",
       "    </tr>\n",
       "  </thead>\n",
       "  <tbody>\n",
       "    <tr>\n",
       "      <th>0</th>\n",
       "      <td>10000</td>\n",
       "      <td>-66.002423</td>\n",
       "    </tr>\n",
       "    <tr>\n",
       "      <th>1</th>\n",
       "      <td>10001</td>\n",
       "      <td>451.406504</td>\n",
       "    </tr>\n",
       "    <tr>\n",
       "      <th>2</th>\n",
       "      <td>10002</td>\n",
       "      <td>-461.676417</td>\n",
       "    </tr>\n",
       "    <tr>\n",
       "      <th>3</th>\n",
       "      <td>10003</td>\n",
       "      <td>40.501209</td>\n",
       "    </tr>\n",
       "    <tr>\n",
       "      <th>4</th>\n",
       "      <td>10004</td>\n",
       "      <td>-126.744722</td>\n",
       "    </tr>\n",
       "    <tr>\n",
       "      <th>...</th>\n",
       "      <td>...</td>\n",
       "      <td>...</td>\n",
       "    </tr>\n",
       "    <tr>\n",
       "      <th>1995</th>\n",
       "      <td>11995</td>\n",
       "      <td>464.715255</td>\n",
       "    </tr>\n",
       "    <tr>\n",
       "      <th>1996</th>\n",
       "      <td>11996</td>\n",
       "      <td>496.485334</td>\n",
       "    </tr>\n",
       "    <tr>\n",
       "      <th>1997</th>\n",
       "      <td>11997</td>\n",
       "      <td>-35.135409</td>\n",
       "    </tr>\n",
       "    <tr>\n",
       "      <th>1998</th>\n",
       "      <td>11998</td>\n",
       "      <td>-131.679185</td>\n",
       "    </tr>\n",
       "    <tr>\n",
       "      <th>1999</th>\n",
       "      <td>11999</td>\n",
       "      <td>417.269155</td>\n",
       "    </tr>\n",
       "  </tbody>\n",
       "</table>\n",
       "<p>2000 rows × 2 columns</p>\n",
       "</div>"
      ],
      "text/plain": [
       "         Id           y\n",
       "0     10000  -66.002423\n",
       "1     10001  451.406504\n",
       "2     10002 -461.676417\n",
       "3     10003   40.501209\n",
       "4     10004 -126.744722\n",
       "...     ...         ...\n",
       "1995  11995  464.715255\n",
       "1996  11996  496.485334\n",
       "1997  11997  -35.135409\n",
       "1998  11998 -131.679185\n",
       "1999  11999  417.269155\n",
       "\n",
       "[2000 rows x 2 columns]"
      ]
     },
     "execution_count": 10,
     "metadata": {},
     "output_type": "execute_result"
    }
   ],
   "source": [
    "dfToSubmit"
   ]
  },
  {
   "cell_type": "code",
   "execution_count": 11,
   "metadata": {},
   "outputs": [],
   "source": [
    "dfToSubmit.to_csv(\"toSubmit.csv\", index=False)"
   ]
  },
  {
   "cell_type": "code",
   "execution_count": null,
   "metadata": {},
   "outputs": [],
   "source": []
  }
 ],
 "metadata": {
  "kernelspec": {
   "display_name": "Python 3",
   "language": "python",
   "name": "python3"
  },
  "language_info": {
   "codemirror_mode": {
    "name": "ipython",
    "version": 3
   },
   "file_extension": ".py",
   "mimetype": "text/x-python",
   "name": "python",
   "nbconvert_exporter": "python",
   "pygments_lexer": "ipython3",
   "version": "3.6.13"
  }
 },
 "nbformat": 4,
 "nbformat_minor": 4
}
